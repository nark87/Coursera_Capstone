{
 "cells": [
  {
   "cell_type": "markdown",
   "metadata": {},
   "source": [
    "<div id=\"capstone_business_problem\">\n",
    "    <h1>Capstone - Seattle Traffic Accident Severity Prediction</h1>\n",
    "    <h2>1. Introduction</h2>\n",
    "    Do you live in a safe city? Can your children walk safe and free? Is Seattle a city for tourists? So many questions and maybe no answer now. <br>In the past 5 years, Seattle has received many complaints about unsafe neighborhoods, most of them related to car accidents. In addition, the big car rental companies complain that last quarter, tourists no longer rent cars since Seattle is one of the cities with the most car collisions in the United States. With all of this in mind, the top priority for Seattle's municipal government is to ensure that it can reduce the large number of accidents and return to being the safe city it was before.<br> \n",
    "    <h2>2. Business Problem</h2>\n",
    "    The objective of this capstone project is to analyze and study the collision dataset for the city of Seattle, Washington and find patterns and determinate key factors such as weather, visibility, and road conditions to create the best traffic accident severity prediction. It will use various analytical techniques and machine learning classification algorithms such as k-nearest-neighbors, Support Vector Machine, etc.\n",
    "    <br>\n",
    "    This project will build on and study the possible answers to the following question: How can the city of Seattle create the best model prediction of Traffic Accident Severity and how can it improve to address this issue?\n",
    "    <br>\n",
    "    After this study, we can provide the result to different goverment departments, rental car companies, insurance companies and emergency contacts as well.\n",
    "</div>"
   ]
  },
  {
   "cell_type": "markdown",
   "metadata": {},
   "source": [
    "<h2>3. Data</h2>"
   ]
  },
  {
   "cell_type": "markdown",
   "metadata": {},
   "source": [
    "The data that will be used to conduct the study is based on the collection of traffic accidents from 2004 to present in the city of Seattle, Washington. The data resource is updated weekly by the Seattle Department of Transportation.\n",
    "This dataset (.csv file), with 194,673 rows and 38 columns, contains information such as:\n",
    "* Severity of the accident\n",
    "* Type of collision\n",
    "* Location accident\n",
    "* Number of vehicles involved\n",
    "* Weather conditions\n",
    "* Road conditions\n",
    "* Any pedestrians involved\n",
    "* etc"
   ]
  },
  {
   "cell_type": "markdown",
   "metadata": {},
   "source": [
    "There are some features that are able to determine potentially dangerous places where serious accidents are most likely to occur, for example, road conditions, light conditions, types of junctions and then add the weather conditions \n",
    "which increases the risk of accident.\n",
    "Finally, the dataset contains a column with the severity code for each accident that ranges from 0 (unknown) to 3 (fatality). "
   ]
  },
  {
   "cell_type": "markdown",
   "metadata": {},
   "source": [
    "This study is focused on predicting the level of severity of the collision and being able to prevent new accidents from taking place at potentially dangerous intersections by placing traffic signs to prevent them. To do this, we can ask some question such as:\n",
    "* How do road and weather conditions affect accident severity in some specific locations?\n",
    "* Is it necessary to invest in fixing the roads to prevent accidents?"
   ]
  },
  {
   "cell_type": "markdown",
   "metadata": {},
   "source": [
    "We hope to be able to answer these questions and more in this project."
   ]
  },
  {
   "cell_type": "code",
   "execution_count": 1,
   "metadata": {},
   "outputs": [],
   "source": [
    "import numpy as np \n",
    "import pandas as pd"
   ]
  },
  {
   "cell_type": "code",
   "execution_count": 2,
   "metadata": {},
   "outputs": [
    {
     "name": "stdout",
     "output_type": "stream",
     "text": [
      "Hello Capstone Project Course!\n"
     ]
    }
   ],
   "source": [
    "print('Hello Capstone Project Course!')"
   ]
  },
  {
   "cell_type": "markdown",
   "metadata": {},
   "source": [
    "### Lets load required libraries"
   ]
  },
  {
   "cell_type": "code",
   "execution_count": 3,
   "metadata": {},
   "outputs": [],
   "source": [
    "import itertools\n",
    "import matplotlib.pyplot as plt\n",
    "from matplotlib.ticker import NullFormatter\n",
    "import matplotlib.ticker as ticker\n",
    "from sklearn import preprocessing\n",
    "from sklearn.model_selection import train_test_split\n",
    "from sklearn.neighbors import KNeighborsClassifier\n",
    "from sklearn.tree import DecisionTreeClassifier\n",
    "from sklearn import svm\n",
    "from sklearn.linear_model import LogisticRegression\n",
    "from sklearn import metrics\n",
    "from sklearn.metrics import f1_score\n",
    "from sklearn.metrics import jaccard_similarity_score\n",
    "from sklearn.metrics import log_loss\n",
    "%matplotlib inline"
   ]
  },
  {
   "cell_type": "markdown",
   "metadata": {},
   "source": [
    "### Load Data From CSV File"
   ]
  },
  {
   "cell_type": "code",
   "execution_count": 4,
   "metadata": {},
   "outputs": [
    {
     "name": "stderr",
     "output_type": "stream",
     "text": [
      "/home/jupyterlab/conda/envs/python/lib/python3.6/site-packages/IPython/core/interactiveshell.py:3072: DtypeWarning: Columns (33) have mixed types.Specify dtype option on import or set low_memory=False.\n",
      "  interactivity=interactivity, compiler=compiler, result=result)\n"
     ]
    },
    {
     "data": {
      "text/html": [
       "<div>\n",
       "<style scoped>\n",
       "    .dataframe tbody tr th:only-of-type {\n",
       "        vertical-align: middle;\n",
       "    }\n",
       "\n",
       "    .dataframe tbody tr th {\n",
       "        vertical-align: top;\n",
       "    }\n",
       "\n",
       "    .dataframe thead th {\n",
       "        text-align: right;\n",
       "    }\n",
       "</style>\n",
       "<table border=\"1\" class=\"dataframe\">\n",
       "  <thead>\n",
       "    <tr style=\"text-align: right;\">\n",
       "      <th></th>\n",
       "      <th>SEVERITYCODE</th>\n",
       "      <th>X</th>\n",
       "      <th>Y</th>\n",
       "      <th>OBJECTID</th>\n",
       "      <th>INCKEY</th>\n",
       "      <th>COLDETKEY</th>\n",
       "      <th>REPORTNO</th>\n",
       "      <th>STATUS</th>\n",
       "      <th>ADDRTYPE</th>\n",
       "      <th>INTKEY</th>\n",
       "      <th>...</th>\n",
       "      <th>ROADCOND</th>\n",
       "      <th>LIGHTCOND</th>\n",
       "      <th>PEDROWNOTGRNT</th>\n",
       "      <th>SDOTCOLNUM</th>\n",
       "      <th>SPEEDING</th>\n",
       "      <th>ST_COLCODE</th>\n",
       "      <th>ST_COLDESC</th>\n",
       "      <th>SEGLANEKEY</th>\n",
       "      <th>CROSSWALKKEY</th>\n",
       "      <th>HITPARKEDCAR</th>\n",
       "    </tr>\n",
       "  </thead>\n",
       "  <tbody>\n",
       "    <tr>\n",
       "      <th>0</th>\n",
       "      <td>2</td>\n",
       "      <td>-122.323148</td>\n",
       "      <td>47.703140</td>\n",
       "      <td>1</td>\n",
       "      <td>1307</td>\n",
       "      <td>1307</td>\n",
       "      <td>3502005</td>\n",
       "      <td>Matched</td>\n",
       "      <td>Intersection</td>\n",
       "      <td>37475.0</td>\n",
       "      <td>...</td>\n",
       "      <td>Wet</td>\n",
       "      <td>Daylight</td>\n",
       "      <td>NaN</td>\n",
       "      <td>NaN</td>\n",
       "      <td>NaN</td>\n",
       "      <td>10</td>\n",
       "      <td>Entering at angle</td>\n",
       "      <td>0</td>\n",
       "      <td>0</td>\n",
       "      <td>N</td>\n",
       "    </tr>\n",
       "    <tr>\n",
       "      <th>1</th>\n",
       "      <td>1</td>\n",
       "      <td>-122.347294</td>\n",
       "      <td>47.647172</td>\n",
       "      <td>2</td>\n",
       "      <td>52200</td>\n",
       "      <td>52200</td>\n",
       "      <td>2607959</td>\n",
       "      <td>Matched</td>\n",
       "      <td>Block</td>\n",
       "      <td>NaN</td>\n",
       "      <td>...</td>\n",
       "      <td>Wet</td>\n",
       "      <td>Dark - Street Lights On</td>\n",
       "      <td>NaN</td>\n",
       "      <td>6354039.0</td>\n",
       "      <td>NaN</td>\n",
       "      <td>11</td>\n",
       "      <td>From same direction - both going straight - bo...</td>\n",
       "      <td>0</td>\n",
       "      <td>0</td>\n",
       "      <td>N</td>\n",
       "    </tr>\n",
       "    <tr>\n",
       "      <th>2</th>\n",
       "      <td>1</td>\n",
       "      <td>-122.334540</td>\n",
       "      <td>47.607871</td>\n",
       "      <td>3</td>\n",
       "      <td>26700</td>\n",
       "      <td>26700</td>\n",
       "      <td>1482393</td>\n",
       "      <td>Matched</td>\n",
       "      <td>Block</td>\n",
       "      <td>NaN</td>\n",
       "      <td>...</td>\n",
       "      <td>Dry</td>\n",
       "      <td>Daylight</td>\n",
       "      <td>NaN</td>\n",
       "      <td>4323031.0</td>\n",
       "      <td>NaN</td>\n",
       "      <td>32</td>\n",
       "      <td>One parked--one moving</td>\n",
       "      <td>0</td>\n",
       "      <td>0</td>\n",
       "      <td>N</td>\n",
       "    </tr>\n",
       "    <tr>\n",
       "      <th>3</th>\n",
       "      <td>1</td>\n",
       "      <td>-122.334803</td>\n",
       "      <td>47.604803</td>\n",
       "      <td>4</td>\n",
       "      <td>1144</td>\n",
       "      <td>1144</td>\n",
       "      <td>3503937</td>\n",
       "      <td>Matched</td>\n",
       "      <td>Block</td>\n",
       "      <td>NaN</td>\n",
       "      <td>...</td>\n",
       "      <td>Dry</td>\n",
       "      <td>Daylight</td>\n",
       "      <td>NaN</td>\n",
       "      <td>NaN</td>\n",
       "      <td>NaN</td>\n",
       "      <td>23</td>\n",
       "      <td>From same direction - all others</td>\n",
       "      <td>0</td>\n",
       "      <td>0</td>\n",
       "      <td>N</td>\n",
       "    </tr>\n",
       "    <tr>\n",
       "      <th>4</th>\n",
       "      <td>2</td>\n",
       "      <td>-122.306426</td>\n",
       "      <td>47.545739</td>\n",
       "      <td>5</td>\n",
       "      <td>17700</td>\n",
       "      <td>17700</td>\n",
       "      <td>1807429</td>\n",
       "      <td>Matched</td>\n",
       "      <td>Intersection</td>\n",
       "      <td>34387.0</td>\n",
       "      <td>...</td>\n",
       "      <td>Wet</td>\n",
       "      <td>Daylight</td>\n",
       "      <td>NaN</td>\n",
       "      <td>4028032.0</td>\n",
       "      <td>NaN</td>\n",
       "      <td>10</td>\n",
       "      <td>Entering at angle</td>\n",
       "      <td>0</td>\n",
       "      <td>0</td>\n",
       "      <td>N</td>\n",
       "    </tr>\n",
       "  </tbody>\n",
       "</table>\n",
       "<p>5 rows × 38 columns</p>\n",
       "</div>"
      ],
      "text/plain": [
       "   SEVERITYCODE           X          Y  OBJECTID  INCKEY  COLDETKEY REPORTNO  \\\n",
       "0             2 -122.323148  47.703140         1    1307       1307  3502005   \n",
       "1             1 -122.347294  47.647172         2   52200      52200  2607959   \n",
       "2             1 -122.334540  47.607871         3   26700      26700  1482393   \n",
       "3             1 -122.334803  47.604803         4    1144       1144  3503937   \n",
       "4             2 -122.306426  47.545739         5   17700      17700  1807429   \n",
       "\n",
       "    STATUS      ADDRTYPE   INTKEY  ... ROADCOND                LIGHTCOND  \\\n",
       "0  Matched  Intersection  37475.0  ...      Wet                 Daylight   \n",
       "1  Matched         Block      NaN  ...      Wet  Dark - Street Lights On   \n",
       "2  Matched         Block      NaN  ...      Dry                 Daylight   \n",
       "3  Matched         Block      NaN  ...      Dry                 Daylight   \n",
       "4  Matched  Intersection  34387.0  ...      Wet                 Daylight   \n",
       "\n",
       "  PEDROWNOTGRNT  SDOTCOLNUM SPEEDING ST_COLCODE  \\\n",
       "0           NaN         NaN      NaN         10   \n",
       "1           NaN   6354039.0      NaN         11   \n",
       "2           NaN   4323031.0      NaN         32   \n",
       "3           NaN         NaN      NaN         23   \n",
       "4           NaN   4028032.0      NaN         10   \n",
       "\n",
       "                                          ST_COLDESC  SEGLANEKEY  \\\n",
       "0                                  Entering at angle           0   \n",
       "1  From same direction - both going straight - bo...           0   \n",
       "2                             One parked--one moving           0   \n",
       "3                   From same direction - all others           0   \n",
       "4                                  Entering at angle           0   \n",
       "\n",
       "   CROSSWALKKEY  HITPARKEDCAR  \n",
       "0             0             N  \n",
       "1             0             N  \n",
       "2             0             N  \n",
       "3             0             N  \n",
       "4             0             N  \n",
       "\n",
       "[5 rows x 38 columns]"
      ]
     },
     "execution_count": 4,
     "metadata": {},
     "output_type": "execute_result"
    }
   ],
   "source": [
    "df = pd.read_csv('Data-Collisions.csv')\n",
    "df.head()"
   ]
  },
  {
   "cell_type": "code",
   "execution_count": 5,
   "metadata": {},
   "outputs": [],
   "source": [
    "df_geo = df.copy()"
   ]
  },
  {
   "cell_type": "markdown",
   "metadata": {},
   "source": [
    "<div id=\"visualization_analysis\">\n",
    "    <h2>Data Visualization and Analysis</h2> \n",
    "</div>"
   ]
  },
  {
   "cell_type": "markdown",
   "metadata": {},
   "source": [
    "How many rows and columns are in this dataset in total? What are the name of columns?"
   ]
  },
  {
   "cell_type": "code",
   "execution_count": 6,
   "metadata": {},
   "outputs": [
    {
     "name": "stdout",
     "output_type": "stream",
     "text": [
      "Rows: 194673\n",
      "Columns: 38\n"
     ]
    }
   ],
   "source": [
    "df.shape\n",
    "print(\"Rows:\", df.shape[0])\n",
    "print(\"Columns:\", df.shape[1])"
   ]
  },
  {
   "cell_type": "code",
   "execution_count": 7,
   "metadata": {},
   "outputs": [
    {
     "data": {
      "text/plain": [
       "Index(['SEVERITYCODE', 'X', 'Y', 'OBJECTID', 'INCKEY', 'COLDETKEY', 'REPORTNO',\n",
       "       'STATUS', 'ADDRTYPE', 'INTKEY', 'LOCATION', 'EXCEPTRSNCODE',\n",
       "       'EXCEPTRSNDESC', 'SEVERITYCODE.1', 'SEVERITYDESC', 'COLLISIONTYPE',\n",
       "       'PERSONCOUNT', 'PEDCOUNT', 'PEDCYLCOUNT', 'VEHCOUNT', 'INCDATE',\n",
       "       'INCDTTM', 'JUNCTIONTYPE', 'SDOT_COLCODE', 'SDOT_COLDESC',\n",
       "       'INATTENTIONIND', 'UNDERINFL', 'WEATHER', 'ROADCOND', 'LIGHTCOND',\n",
       "       'PEDROWNOTGRNT', 'SDOTCOLNUM', 'SPEEDING', 'ST_COLCODE', 'ST_COLDESC',\n",
       "       'SEGLANEKEY', 'CROSSWALKKEY', 'HITPARKEDCAR'],\n",
       "      dtype='object')"
      ]
     },
     "execution_count": 7,
     "metadata": {},
     "output_type": "execute_result"
    }
   ],
   "source": [
    "df.columns"
   ]
  },
  {
   "cell_type": "markdown",
   "metadata": {},
   "source": [
    "### Feature set"
   ]
  },
  {
   "cell_type": "markdown",
   "metadata": {},
   "source": [
    "Lets see the type from our columns:"
   ]
  },
  {
   "cell_type": "code",
   "execution_count": 8,
   "metadata": {},
   "outputs": [
    {
     "data": {
      "text/plain": [
       "SEVERITYCODE        int64\n",
       "X                 float64\n",
       "Y                 float64\n",
       "OBJECTID            int64\n",
       "INCKEY              int64\n",
       "COLDETKEY           int64\n",
       "REPORTNO           object\n",
       "STATUS             object\n",
       "ADDRTYPE           object\n",
       "INTKEY            float64\n",
       "LOCATION           object\n",
       "EXCEPTRSNCODE      object\n",
       "EXCEPTRSNDESC      object\n",
       "SEVERITYCODE.1      int64\n",
       "SEVERITYDESC       object\n",
       "COLLISIONTYPE      object\n",
       "PERSONCOUNT         int64\n",
       "PEDCOUNT            int64\n",
       "PEDCYLCOUNT         int64\n",
       "VEHCOUNT            int64\n",
       "INCDATE            object\n",
       "INCDTTM            object\n",
       "JUNCTIONTYPE       object\n",
       "SDOT_COLCODE        int64\n",
       "SDOT_COLDESC       object\n",
       "INATTENTIONIND     object\n",
       "UNDERINFL          object\n",
       "WEATHER            object\n",
       "ROADCOND           object\n",
       "LIGHTCOND          object\n",
       "PEDROWNOTGRNT      object\n",
       "SDOTCOLNUM        float64\n",
       "SPEEDING           object\n",
       "ST_COLCODE         object\n",
       "ST_COLDESC         object\n",
       "SEGLANEKEY          int64\n",
       "CROSSWALKKEY        int64\n",
       "HITPARKEDCAR       object\n",
       "dtype: object"
      ]
     },
     "execution_count": 8,
     "metadata": {},
     "output_type": "execute_result"
    }
   ],
   "source": [
    "df.dtypes"
   ]
  },
  {
   "cell_type": "markdown",
   "metadata": {},
   "source": [
    "Lets define our index in the set data:"
   ]
  },
  {
   "cell_type": "code",
   "execution_count": 9,
   "metadata": {},
   "outputs": [],
   "source": [
    "df.set_index('INCKEY', inplace=True)"
   ]
  },
  {
   "cell_type": "code",
   "execution_count": 10,
   "metadata": {},
   "outputs": [
    {
     "data": {
      "text/html": [
       "<div>\n",
       "<style scoped>\n",
       "    .dataframe tbody tr th:only-of-type {\n",
       "        vertical-align: middle;\n",
       "    }\n",
       "\n",
       "    .dataframe tbody tr th {\n",
       "        vertical-align: top;\n",
       "    }\n",
       "\n",
       "    .dataframe thead th {\n",
       "        text-align: right;\n",
       "    }\n",
       "</style>\n",
       "<table border=\"1\" class=\"dataframe\">\n",
       "  <thead>\n",
       "    <tr style=\"text-align: right;\">\n",
       "      <th></th>\n",
       "      <th>SEVERITYCODE</th>\n",
       "      <th>X</th>\n",
       "      <th>Y</th>\n",
       "      <th>OBJECTID</th>\n",
       "      <th>COLDETKEY</th>\n",
       "      <th>REPORTNO</th>\n",
       "      <th>STATUS</th>\n",
       "      <th>ADDRTYPE</th>\n",
       "      <th>INTKEY</th>\n",
       "      <th>LOCATION</th>\n",
       "      <th>...</th>\n",
       "      <th>ROADCOND</th>\n",
       "      <th>LIGHTCOND</th>\n",
       "      <th>PEDROWNOTGRNT</th>\n",
       "      <th>SDOTCOLNUM</th>\n",
       "      <th>SPEEDING</th>\n",
       "      <th>ST_COLCODE</th>\n",
       "      <th>ST_COLDESC</th>\n",
       "      <th>SEGLANEKEY</th>\n",
       "      <th>CROSSWALKKEY</th>\n",
       "      <th>HITPARKEDCAR</th>\n",
       "    </tr>\n",
       "    <tr>\n",
       "      <th>INCKEY</th>\n",
       "      <th></th>\n",
       "      <th></th>\n",
       "      <th></th>\n",
       "      <th></th>\n",
       "      <th></th>\n",
       "      <th></th>\n",
       "      <th></th>\n",
       "      <th></th>\n",
       "      <th></th>\n",
       "      <th></th>\n",
       "      <th></th>\n",
       "      <th></th>\n",
       "      <th></th>\n",
       "      <th></th>\n",
       "      <th></th>\n",
       "      <th></th>\n",
       "      <th></th>\n",
       "      <th></th>\n",
       "      <th></th>\n",
       "      <th></th>\n",
       "      <th></th>\n",
       "    </tr>\n",
       "  </thead>\n",
       "  <tbody>\n",
       "    <tr>\n",
       "      <th>1307</th>\n",
       "      <td>2</td>\n",
       "      <td>-122.323148</td>\n",
       "      <td>47.703140</td>\n",
       "      <td>1</td>\n",
       "      <td>1307</td>\n",
       "      <td>3502005</td>\n",
       "      <td>Matched</td>\n",
       "      <td>Intersection</td>\n",
       "      <td>37475.0</td>\n",
       "      <td>5TH AVE NE AND NE 103RD ST</td>\n",
       "      <td>...</td>\n",
       "      <td>Wet</td>\n",
       "      <td>Daylight</td>\n",
       "      <td>NaN</td>\n",
       "      <td>NaN</td>\n",
       "      <td>NaN</td>\n",
       "      <td>10</td>\n",
       "      <td>Entering at angle</td>\n",
       "      <td>0</td>\n",
       "      <td>0</td>\n",
       "      <td>N</td>\n",
       "    </tr>\n",
       "    <tr>\n",
       "      <th>52200</th>\n",
       "      <td>1</td>\n",
       "      <td>-122.347294</td>\n",
       "      <td>47.647172</td>\n",
       "      <td>2</td>\n",
       "      <td>52200</td>\n",
       "      <td>2607959</td>\n",
       "      <td>Matched</td>\n",
       "      <td>Block</td>\n",
       "      <td>NaN</td>\n",
       "      <td>AURORA BR BETWEEN RAYE ST AND BRIDGE WAY N</td>\n",
       "      <td>...</td>\n",
       "      <td>Wet</td>\n",
       "      <td>Dark - Street Lights On</td>\n",
       "      <td>NaN</td>\n",
       "      <td>6354039.0</td>\n",
       "      <td>NaN</td>\n",
       "      <td>11</td>\n",
       "      <td>From same direction - both going straight - bo...</td>\n",
       "      <td>0</td>\n",
       "      <td>0</td>\n",
       "      <td>N</td>\n",
       "    </tr>\n",
       "    <tr>\n",
       "      <th>26700</th>\n",
       "      <td>1</td>\n",
       "      <td>-122.334540</td>\n",
       "      <td>47.607871</td>\n",
       "      <td>3</td>\n",
       "      <td>26700</td>\n",
       "      <td>1482393</td>\n",
       "      <td>Matched</td>\n",
       "      <td>Block</td>\n",
       "      <td>NaN</td>\n",
       "      <td>4TH AVE BETWEEN SENECA ST AND UNIVERSITY ST</td>\n",
       "      <td>...</td>\n",
       "      <td>Dry</td>\n",
       "      <td>Daylight</td>\n",
       "      <td>NaN</td>\n",
       "      <td>4323031.0</td>\n",
       "      <td>NaN</td>\n",
       "      <td>32</td>\n",
       "      <td>One parked--one moving</td>\n",
       "      <td>0</td>\n",
       "      <td>0</td>\n",
       "      <td>N</td>\n",
       "    </tr>\n",
       "    <tr>\n",
       "      <th>1144</th>\n",
       "      <td>1</td>\n",
       "      <td>-122.334803</td>\n",
       "      <td>47.604803</td>\n",
       "      <td>4</td>\n",
       "      <td>1144</td>\n",
       "      <td>3503937</td>\n",
       "      <td>Matched</td>\n",
       "      <td>Block</td>\n",
       "      <td>NaN</td>\n",
       "      <td>2ND AVE BETWEEN MARION ST AND MADISON ST</td>\n",
       "      <td>...</td>\n",
       "      <td>Dry</td>\n",
       "      <td>Daylight</td>\n",
       "      <td>NaN</td>\n",
       "      <td>NaN</td>\n",
       "      <td>NaN</td>\n",
       "      <td>23</td>\n",
       "      <td>From same direction - all others</td>\n",
       "      <td>0</td>\n",
       "      <td>0</td>\n",
       "      <td>N</td>\n",
       "    </tr>\n",
       "    <tr>\n",
       "      <th>17700</th>\n",
       "      <td>2</td>\n",
       "      <td>-122.306426</td>\n",
       "      <td>47.545739</td>\n",
       "      <td>5</td>\n",
       "      <td>17700</td>\n",
       "      <td>1807429</td>\n",
       "      <td>Matched</td>\n",
       "      <td>Intersection</td>\n",
       "      <td>34387.0</td>\n",
       "      <td>SWIFT AVE S AND SWIFT AV OFF RP</td>\n",
       "      <td>...</td>\n",
       "      <td>Wet</td>\n",
       "      <td>Daylight</td>\n",
       "      <td>NaN</td>\n",
       "      <td>4028032.0</td>\n",
       "      <td>NaN</td>\n",
       "      <td>10</td>\n",
       "      <td>Entering at angle</td>\n",
       "      <td>0</td>\n",
       "      <td>0</td>\n",
       "      <td>N</td>\n",
       "    </tr>\n",
       "    <tr>\n",
       "      <th>...</th>\n",
       "      <td>...</td>\n",
       "      <td>...</td>\n",
       "      <td>...</td>\n",
       "      <td>...</td>\n",
       "      <td>...</td>\n",
       "      <td>...</td>\n",
       "      <td>...</td>\n",
       "      <td>...</td>\n",
       "      <td>...</td>\n",
       "      <td>...</td>\n",
       "      <td>...</td>\n",
       "      <td>...</td>\n",
       "      <td>...</td>\n",
       "      <td>...</td>\n",
       "      <td>...</td>\n",
       "      <td>...</td>\n",
       "      <td>...</td>\n",
       "      <td>...</td>\n",
       "      <td>...</td>\n",
       "      <td>...</td>\n",
       "      <td>...</td>\n",
       "    </tr>\n",
       "    <tr>\n",
       "      <th>309534</th>\n",
       "      <td>2</td>\n",
       "      <td>-122.290826</td>\n",
       "      <td>47.565408</td>\n",
       "      <td>219543</td>\n",
       "      <td>310814</td>\n",
       "      <td>E871089</td>\n",
       "      <td>Matched</td>\n",
       "      <td>Block</td>\n",
       "      <td>NaN</td>\n",
       "      <td>34TH AVE S BETWEEN S DAKOTA ST AND S GENESEE ST</td>\n",
       "      <td>...</td>\n",
       "      <td>Dry</td>\n",
       "      <td>Daylight</td>\n",
       "      <td>NaN</td>\n",
       "      <td>NaN</td>\n",
       "      <td>NaN</td>\n",
       "      <td>24</td>\n",
       "      <td>From opposite direction - both moving - head-on</td>\n",
       "      <td>0</td>\n",
       "      <td>0</td>\n",
       "      <td>N</td>\n",
       "    </tr>\n",
       "    <tr>\n",
       "      <th>309085</th>\n",
       "      <td>1</td>\n",
       "      <td>-122.344526</td>\n",
       "      <td>47.690924</td>\n",
       "      <td>219544</td>\n",
       "      <td>310365</td>\n",
       "      <td>E876731</td>\n",
       "      <td>Matched</td>\n",
       "      <td>Block</td>\n",
       "      <td>NaN</td>\n",
       "      <td>AURORA AVE N BETWEEN N 85TH ST AND N 86TH ST</td>\n",
       "      <td>...</td>\n",
       "      <td>Wet</td>\n",
       "      <td>Daylight</td>\n",
       "      <td>NaN</td>\n",
       "      <td>NaN</td>\n",
       "      <td>NaN</td>\n",
       "      <td>13</td>\n",
       "      <td>From same direction - both going straight - bo...</td>\n",
       "      <td>0</td>\n",
       "      <td>0</td>\n",
       "      <td>N</td>\n",
       "    </tr>\n",
       "    <tr>\n",
       "      <th>311280</th>\n",
       "      <td>2</td>\n",
       "      <td>-122.306689</td>\n",
       "      <td>47.683047</td>\n",
       "      <td>219545</td>\n",
       "      <td>312640</td>\n",
       "      <td>3809984</td>\n",
       "      <td>Matched</td>\n",
       "      <td>Intersection</td>\n",
       "      <td>24760.0</td>\n",
       "      <td>20TH AVE NE AND NE 75TH ST</td>\n",
       "      <td>...</td>\n",
       "      <td>Dry</td>\n",
       "      <td>Daylight</td>\n",
       "      <td>NaN</td>\n",
       "      <td>NaN</td>\n",
       "      <td>NaN</td>\n",
       "      <td>28</td>\n",
       "      <td>From opposite direction - one left turn - one ...</td>\n",
       "      <td>0</td>\n",
       "      <td>0</td>\n",
       "      <td>N</td>\n",
       "    </tr>\n",
       "    <tr>\n",
       "      <th>309514</th>\n",
       "      <td>2</td>\n",
       "      <td>-122.355317</td>\n",
       "      <td>47.678734</td>\n",
       "      <td>219546</td>\n",
       "      <td>310794</td>\n",
       "      <td>3810083</td>\n",
       "      <td>Matched</td>\n",
       "      <td>Intersection</td>\n",
       "      <td>24349.0</td>\n",
       "      <td>GREENWOOD AVE N AND N 68TH ST</td>\n",
       "      <td>...</td>\n",
       "      <td>Dry</td>\n",
       "      <td>Dusk</td>\n",
       "      <td>NaN</td>\n",
       "      <td>NaN</td>\n",
       "      <td>NaN</td>\n",
       "      <td>5</td>\n",
       "      <td>Vehicle Strikes Pedalcyclist</td>\n",
       "      <td>4308</td>\n",
       "      <td>0</td>\n",
       "      <td>N</td>\n",
       "    </tr>\n",
       "    <tr>\n",
       "      <th>308220</th>\n",
       "      <td>1</td>\n",
       "      <td>-122.289360</td>\n",
       "      <td>47.611017</td>\n",
       "      <td>219547</td>\n",
       "      <td>309500</td>\n",
       "      <td>E868008</td>\n",
       "      <td>Matched</td>\n",
       "      <td>Block</td>\n",
       "      <td>NaN</td>\n",
       "      <td>34TH AVE BETWEEN E MARION ST AND E SPRING ST</td>\n",
       "      <td>...</td>\n",
       "      <td>Wet</td>\n",
       "      <td>Daylight</td>\n",
       "      <td>NaN</td>\n",
       "      <td>NaN</td>\n",
       "      <td>NaN</td>\n",
       "      <td>14</td>\n",
       "      <td>From same direction - both going straight - on...</td>\n",
       "      <td>0</td>\n",
       "      <td>0</td>\n",
       "      <td>N</td>\n",
       "    </tr>\n",
       "  </tbody>\n",
       "</table>\n",
       "<p>194673 rows × 37 columns</p>\n",
       "</div>"
      ],
      "text/plain": [
       "        SEVERITYCODE           X          Y  OBJECTID  COLDETKEY REPORTNO  \\\n",
       "INCKEY                                                                      \n",
       "1307               2 -122.323148  47.703140         1       1307  3502005   \n",
       "52200              1 -122.347294  47.647172         2      52200  2607959   \n",
       "26700              1 -122.334540  47.607871         3      26700  1482393   \n",
       "1144               1 -122.334803  47.604803         4       1144  3503937   \n",
       "17700              2 -122.306426  47.545739         5      17700  1807429   \n",
       "...              ...         ...        ...       ...        ...      ...   \n",
       "309534             2 -122.290826  47.565408    219543     310814  E871089   \n",
       "309085             1 -122.344526  47.690924    219544     310365  E876731   \n",
       "311280             2 -122.306689  47.683047    219545     312640  3809984   \n",
       "309514             2 -122.355317  47.678734    219546     310794  3810083   \n",
       "308220             1 -122.289360  47.611017    219547     309500  E868008   \n",
       "\n",
       "         STATUS      ADDRTYPE   INTKEY  \\\n",
       "INCKEY                                   \n",
       "1307    Matched  Intersection  37475.0   \n",
       "52200   Matched         Block      NaN   \n",
       "26700   Matched         Block      NaN   \n",
       "1144    Matched         Block      NaN   \n",
       "17700   Matched  Intersection  34387.0   \n",
       "...         ...           ...      ...   \n",
       "309534  Matched         Block      NaN   \n",
       "309085  Matched         Block      NaN   \n",
       "311280  Matched  Intersection  24760.0   \n",
       "309514  Matched  Intersection  24349.0   \n",
       "308220  Matched         Block      NaN   \n",
       "\n",
       "                                               LOCATION  ... ROADCOND  \\\n",
       "INCKEY                                                   ...            \n",
       "1307                         5TH AVE NE AND NE 103RD ST  ...      Wet   \n",
       "52200        AURORA BR BETWEEN RAYE ST AND BRIDGE WAY N  ...      Wet   \n",
       "26700       4TH AVE BETWEEN SENECA ST AND UNIVERSITY ST  ...      Dry   \n",
       "1144           2ND AVE BETWEEN MARION ST AND MADISON ST  ...      Dry   \n",
       "17700                   SWIFT AVE S AND SWIFT AV OFF RP  ...      Wet   \n",
       "...                                                 ...  ...      ...   \n",
       "309534  34TH AVE S BETWEEN S DAKOTA ST AND S GENESEE ST  ...      Dry   \n",
       "309085     AURORA AVE N BETWEEN N 85TH ST AND N 86TH ST  ...      Wet   \n",
       "311280                       20TH AVE NE AND NE 75TH ST  ...      Dry   \n",
       "309514                    GREENWOOD AVE N AND N 68TH ST  ...      Dry   \n",
       "308220     34TH AVE BETWEEN E MARION ST AND E SPRING ST  ...      Wet   \n",
       "\n",
       "                      LIGHTCOND  PEDROWNOTGRNT SDOTCOLNUM SPEEDING  \\\n",
       "INCKEY                                                               \n",
       "1307                   Daylight            NaN        NaN      NaN   \n",
       "52200   Dark - Street Lights On            NaN  6354039.0      NaN   \n",
       "26700                  Daylight            NaN  4323031.0      NaN   \n",
       "1144                   Daylight            NaN        NaN      NaN   \n",
       "17700                  Daylight            NaN  4028032.0      NaN   \n",
       "...                         ...            ...        ...      ...   \n",
       "309534                 Daylight            NaN        NaN      NaN   \n",
       "309085                 Daylight            NaN        NaN      NaN   \n",
       "311280                 Daylight            NaN        NaN      NaN   \n",
       "309514                     Dusk            NaN        NaN      NaN   \n",
       "308220                 Daylight            NaN        NaN      NaN   \n",
       "\n",
       "        ST_COLCODE                                         ST_COLDESC  \\\n",
       "INCKEY                                                                  \n",
       "1307            10                                  Entering at angle   \n",
       "52200           11  From same direction - both going straight - bo...   \n",
       "26700           32                             One parked--one moving   \n",
       "1144            23                   From same direction - all others   \n",
       "17700           10                                  Entering at angle   \n",
       "...            ...                                                ...   \n",
       "309534          24    From opposite direction - both moving - head-on   \n",
       "309085          13  From same direction - both going straight - bo...   \n",
       "311280          28  From opposite direction - one left turn - one ...   \n",
       "309514           5                       Vehicle Strikes Pedalcyclist   \n",
       "308220          14  From same direction - both going straight - on...   \n",
       "\n",
       "        SEGLANEKEY  CROSSWALKKEY HITPARKEDCAR  \n",
       "INCKEY                                         \n",
       "1307             0             0            N  \n",
       "52200            0             0            N  \n",
       "26700            0             0            N  \n",
       "1144             0             0            N  \n",
       "17700            0             0            N  \n",
       "...            ...           ...          ...  \n",
       "309534           0             0            N  \n",
       "309085           0             0            N  \n",
       "311280           0             0            N  \n",
       "309514        4308             0            N  \n",
       "308220           0             0            N  \n",
       "\n",
       "[194673 rows x 37 columns]"
      ]
     },
     "execution_count": 10,
     "metadata": {},
     "output_type": "execute_result"
    }
   ],
   "source": [
    "df"
   ]
  },
  {
   "cell_type": "markdown",
   "metadata": {},
   "source": [
    "Lets see how many severity codes are in our data set."
   ]
  },
  {
   "cell_type": "code",
   "execution_count": 87,
   "metadata": {},
   "outputs": [
    {
     "data": {
      "text/plain": [
       "SEVERITYCODE\n",
       "1    136485\n",
       "2     58188\n",
       "Name: SEVERITYCODE, dtype: int64"
      ]
     },
     "execution_count": 87,
     "metadata": {},
     "output_type": "execute_result"
    }
   ],
   "source": [
    "df.groupby(\"SEVERITYCODE\")[\"SEVERITYCODE\"].count()"
   ]
  },
  {
   "cell_type": "markdown",
   "metadata": {},
   "source": [
    "1: Prop damage --> Total: 136485\n",
    "<br>\n",
    "2: Injury --> Total: 58188"
   ]
  },
  {
   "cell_type": "markdown",
   "metadata": {},
   "source": [
    "Lets see how many types of collisions we have."
   ]
  },
  {
   "cell_type": "code",
   "execution_count": 88,
   "metadata": {},
   "outputs": [
    {
     "data": {
      "text/plain": [
       "Parked Car    47987\n",
       "Angles        34674\n",
       "Rear Ended    34090\n",
       "Other         23703\n",
       "Sideswipe     18609\n",
       "Left Turn     13703\n",
       "Pedestrian     6608\n",
       "Cycles         5415\n",
       "Right Turn     2956\n",
       "Head On        2024\n",
       "Name: COLLISIONTYPE, dtype: int64"
      ]
     },
     "execution_count": 88,
     "metadata": {},
     "output_type": "execute_result"
    }
   ],
   "source": [
    "df['COLLISIONTYPE'].value_counts()"
   ]
  },
  {
   "cell_type": "markdown",
   "metadata": {},
   "source": [
    "Combine severity code with type of collisions"
   ]
  },
  {
   "cell_type": "code",
   "execution_count": 13,
   "metadata": {},
   "outputs": [
    {
     "data": {
      "text/plain": [
       "COLLISIONTYPE  SEVERITYCODE\n",
       "Angles         1               21050\n",
       "               2               13624\n",
       "Cycles         2                4744\n",
       "               1                 671\n",
       "Head On        1                1152\n",
       "               2                 872\n",
       "Left Turn      1                8292\n",
       "               2                5411\n",
       "Other          1               17591\n",
       "               2                6112\n",
       "Parked Car     1               45325\n",
       "               2                2662\n",
       "Pedestrian     2                5936\n",
       "               1                 672\n",
       "Rear Ended     1               19419\n",
       "               2               14671\n",
       "Right Turn     1                2347\n",
       "               2                 609\n",
       "Sideswipe      1               16103\n",
       "               2                2506\n",
       "Name: SEVERITYCODE, dtype: int64"
      ]
     },
     "execution_count": 13,
     "metadata": {},
     "output_type": "execute_result"
    }
   ],
   "source": [
    "df.groupby(['COLLISIONTYPE'])['SEVERITYCODE'].value_counts()"
   ]
  },
  {
   "cell_type": "markdown",
   "metadata": {},
   "source": [
    "Normalize the values"
   ]
  },
  {
   "cell_type": "code",
   "execution_count": 14,
   "metadata": {},
   "outputs": [
    {
     "data": {
      "text/plain": [
       "COLLISIONTYPE  SEVERITYCODE\n",
       "Angles         1               0.607083\n",
       "               2               0.392917\n",
       "Cycles         2               0.876085\n",
       "               1               0.123915\n",
       "Head On        1               0.569170\n",
       "               2               0.430830\n",
       "Left Turn      1               0.605123\n",
       "               2               0.394877\n",
       "Other          1               0.742142\n",
       "               2               0.257858\n",
       "Parked Car     1               0.944527\n",
       "               2               0.055473\n",
       "Pedestrian     2               0.898305\n",
       "               1               0.101695\n",
       "Rear Ended     1               0.569639\n",
       "               2               0.430361\n",
       "Right Turn     1               0.793978\n",
       "               2               0.206022\n",
       "Sideswipe      1               0.865334\n",
       "               2               0.134666\n",
       "Name: SEVERITYCODE, dtype: float64"
      ]
     },
     "execution_count": 14,
     "metadata": {},
     "output_type": "execute_result"
    }
   ],
   "source": [
    "df.groupby(['COLLISIONTYPE'])['SEVERITYCODE'].value_counts(normalize=True)"
   ]
  },
  {
   "cell_type": "markdown",
   "metadata": {},
   "source": [
    "Lets study the feature \"The total number of people involved in the collision\". How many collisions for each group of people"
   ]
  },
  {
   "cell_type": "code",
   "execution_count": 15,
   "metadata": {},
   "outputs": [
    {
     "data": {
      "text/plain": [
       "2     114231\n",
       "3      35553\n",
       "4      14660\n",
       "1      13154\n",
       "5       6584\n",
       "0       5544\n",
       "6       2702\n",
       "7       1131\n",
       "8        533\n",
       "9        216\n",
       "10       128\n",
       "11        56\n",
       "12        33\n",
       "13        21\n",
       "14        19\n",
       "15        11\n",
       "17        11\n",
       "16         8\n",
       "44         6\n",
       "18         6\n",
       "20         6\n",
       "25         6\n",
       "19         5\n",
       "26         4\n",
       "22         4\n",
       "27         3\n",
       "28         3\n",
       "29         3\n",
       "47         3\n",
       "32         3\n",
       "34         3\n",
       "37         3\n",
       "23         2\n",
       "21         2\n",
       "24         2\n",
       "30         2\n",
       "36         2\n",
       "57         1\n",
       "31         1\n",
       "35         1\n",
       "39         1\n",
       "41         1\n",
       "43         1\n",
       "48         1\n",
       "53         1\n",
       "54         1\n",
       "81         1\n",
       "Name: PERSONCOUNT, dtype: int64"
      ]
     },
     "execution_count": 15,
     "metadata": {},
     "output_type": "execute_result"
    }
   ],
   "source": [
    "df['PERSONCOUNT'].value_counts()"
   ]
  },
  {
   "cell_type": "markdown",
   "metadata": {},
   "source": [
    "Combine severity code with the number of people involved in the collisions"
   ]
  },
  {
   "cell_type": "code",
   "execution_count": 16,
   "metadata": {},
   "outputs": [
    {
     "data": {
      "text/plain": [
       "PERSONCOUNT  SEVERITYCODE\n",
       "0            1                3782\n",
       "             2                1762\n",
       "1            1                9858\n",
       "             2                3296\n",
       "2            1               86420\n",
       "                             ...  \n",
       "48           2                   1\n",
       "53           1                   1\n",
       "54           2                   1\n",
       "57           1                   1\n",
       "81           2                   1\n",
       "Name: SEVERITYCODE, Length: 79, dtype: int64"
      ]
     },
     "execution_count": 16,
     "metadata": {},
     "output_type": "execute_result"
    }
   ],
   "source": [
    "df.groupby([\"PERSONCOUNT\"])['SEVERITYCODE'].value_counts()"
   ]
  },
  {
   "cell_type": "markdown",
   "metadata": {},
   "source": [
    "Normalize the values"
   ]
  },
  {
   "cell_type": "code",
   "execution_count": 17,
   "metadata": {},
   "outputs": [
    {
     "data": {
      "text/plain": [
       "PERSONCOUNT  SEVERITYCODE\n",
       "0            1               0.682179\n",
       "             2               0.317821\n",
       "1            1               0.749430\n",
       "             2               0.250570\n",
       "2            1               0.756537\n",
       "                               ...   \n",
       "48           2               1.000000\n",
       "53           1               1.000000\n",
       "54           2               1.000000\n",
       "57           1               1.000000\n",
       "81           2               1.000000\n",
       "Name: SEVERITYCODE, Length: 79, dtype: float64"
      ]
     },
     "execution_count": 17,
     "metadata": {},
     "output_type": "execute_result"
    }
   ],
   "source": [
    "df.groupby([\"PERSONCOUNT\"])['SEVERITYCODE'].value_counts(normalize=True)"
   ]
  },
  {
   "cell_type": "markdown",
   "metadata": {},
   "source": [
    "Lets study the feature \"The number of pedestrians involved in the collision\". How many collisions for each group of pedestrian."
   ]
  },
  {
   "cell_type": "code",
   "execution_count": 18,
   "metadata": {},
   "outputs": [
    {
     "data": {
      "text/plain": [
       "0    187734\n",
       "1      6685\n",
       "2       226\n",
       "3        22\n",
       "4         4\n",
       "6         1\n",
       "5         1\n",
       "Name: PEDCOUNT, dtype: int64"
      ]
     },
     "execution_count": 18,
     "metadata": {},
     "output_type": "execute_result"
    }
   ],
   "source": [
    "df['PEDCOUNT'].value_counts()"
   ]
  },
  {
   "cell_type": "markdown",
   "metadata": {},
   "source": [
    "Combine severity code with the number of pedestrians involved in the collisions"
   ]
  },
  {
   "cell_type": "code",
   "execution_count": 19,
   "metadata": {},
   "outputs": [
    {
     "data": {
      "text/plain": [
       "PEDCOUNT  SEVERITYCODE\n",
       "0         1               135787\n",
       "          2                51947\n",
       "1         2                 6007\n",
       "          1                  678\n",
       "2         2                  207\n",
       "          1                   19\n",
       "3         2                   21\n",
       "          1                    1\n",
       "4         2                    4\n",
       "5         2                    1\n",
       "6         2                    1\n",
       "Name: SEVERITYCODE, dtype: int64"
      ]
     },
     "execution_count": 19,
     "metadata": {},
     "output_type": "execute_result"
    }
   ],
   "source": [
    "df.groupby([\"PEDCOUNT\"])['SEVERITYCODE'].value_counts()"
   ]
  },
  {
   "cell_type": "markdown",
   "metadata": {},
   "source": [
    "Normalize the values"
   ]
  },
  {
   "cell_type": "code",
   "execution_count": 20,
   "metadata": {},
   "outputs": [
    {
     "data": {
      "text/plain": [
       "PEDCOUNT  SEVERITYCODE\n",
       "0         1               0.723295\n",
       "          2               0.276705\n",
       "1         2               0.898579\n",
       "          1               0.101421\n",
       "2         2               0.915929\n",
       "          1               0.084071\n",
       "3         2               0.954545\n",
       "          1               0.045455\n",
       "4         2               1.000000\n",
       "5         2               1.000000\n",
       "6         2               1.000000\n",
       "Name: SEVERITYCODE, dtype: float64"
      ]
     },
     "execution_count": 20,
     "metadata": {},
     "output_type": "execute_result"
    }
   ],
   "source": [
    "df.groupby([\"PEDCOUNT\"])['SEVERITYCODE'].value_counts(normalize=True)"
   ]
  },
  {
   "cell_type": "markdown",
   "metadata": {},
   "source": [
    "The number of bicycles involved in the collision. "
   ]
  },
  {
   "cell_type": "code",
   "execution_count": 21,
   "metadata": {},
   "outputs": [
    {
     "data": {
      "text/plain": [
       "0    189189\n",
       "1      5441\n",
       "2        43\n",
       "Name: PEDCYLCOUNT, dtype: int64"
      ]
     },
     "execution_count": 21,
     "metadata": {},
     "output_type": "execute_result"
    }
   ],
   "source": [
    "df['PEDCYLCOUNT'].value_counts()"
   ]
  },
  {
   "cell_type": "markdown",
   "metadata": {},
   "source": [
    "Combine with the severity code"
   ]
  },
  {
   "cell_type": "code",
   "execution_count": 22,
   "metadata": {},
   "outputs": [
    {
     "data": {
      "text/plain": [
       "PEDCYLCOUNT  SEVERITYCODE\n",
       "0            1               135806\n",
       "             2                53383\n",
       "1            2                 4762\n",
       "             1                  679\n",
       "2            2                   43\n",
       "Name: SEVERITYCODE, dtype: int64"
      ]
     },
     "execution_count": 22,
     "metadata": {},
     "output_type": "execute_result"
    }
   ],
   "source": [
    "df.groupby([\"PEDCYLCOUNT\"])['SEVERITYCODE'].value_counts()"
   ]
  },
  {
   "cell_type": "markdown",
   "metadata": {},
   "source": [
    "Normalized the values"
   ]
  },
  {
   "cell_type": "code",
   "execution_count": 23,
   "metadata": {},
   "outputs": [
    {
     "data": {
      "text/plain": [
       "PEDCYLCOUNT  SEVERITYCODE\n",
       "0            1               0.717832\n",
       "             2               0.282168\n",
       "1            2               0.875207\n",
       "             1               0.124793\n",
       "2            2               1.000000\n",
       "Name: SEVERITYCODE, dtype: float64"
      ]
     },
     "execution_count": 23,
     "metadata": {},
     "output_type": "execute_result"
    }
   ],
   "source": [
    "df.groupby([\"PEDCYLCOUNT\"])['SEVERITYCODE'].value_counts(normalize=True)"
   ]
  },
  {
   "cell_type": "markdown",
   "metadata": {},
   "source": [
    "The number of vehicles involved in the collision"
   ]
  },
  {
   "cell_type": "code",
   "execution_count": 24,
   "metadata": {},
   "outputs": [
    {
     "data": {
      "text/plain": [
       "2     147650\n",
       "1      25748\n",
       "3      13010\n",
       "0       5085\n",
       "4       2426\n",
       "5        529\n",
       "6        146\n",
       "7         46\n",
       "8         15\n",
       "9          9\n",
       "11         6\n",
       "10         2\n",
       "12         1\n",
       "Name: VEHCOUNT, dtype: int64"
      ]
     },
     "execution_count": 24,
     "metadata": {},
     "output_type": "execute_result"
    }
   ],
   "source": [
    "df['VEHCOUNT'].value_counts()"
   ]
  },
  {
   "cell_type": "markdown",
   "metadata": {},
   "source": [
    "Combine  with the severity code"
   ]
  },
  {
   "cell_type": "code",
   "execution_count": 25,
   "metadata": {},
   "outputs": [
    {
     "data": {
      "text/plain": [
       "VEHCOUNT  SEVERITYCODE\n",
       "0         1                 3858\n",
       "          2                 1227\n",
       "1         2                14105\n",
       "          1                11643\n",
       "2         1               111701\n",
       "          2                35949\n",
       "3         1                 7540\n",
       "          2                 5470\n",
       "4         1                 1348\n",
       "          2                 1078\n",
       "5         1                  268\n",
       "          2                  261\n",
       "6         1                   86\n",
       "          2                   60\n",
       "7         1                   24\n",
       "          2                   22\n",
       "8         1                   10\n",
       "          2                    5\n",
       "9         2                    6\n",
       "          1                    3\n",
       "10        2                    2\n",
       "11        1                    3\n",
       "          2                    3\n",
       "12        1                    1\n",
       "Name: SEVERITYCODE, dtype: int64"
      ]
     },
     "execution_count": 25,
     "metadata": {},
     "output_type": "execute_result"
    }
   ],
   "source": [
    "df.groupby([\"VEHCOUNT\"])['SEVERITYCODE'].value_counts()"
   ]
  },
  {
   "cell_type": "markdown",
   "metadata": {},
   "source": [
    "Normalized the values"
   ]
  },
  {
   "cell_type": "code",
   "execution_count": 26,
   "metadata": {},
   "outputs": [
    {
     "data": {
      "text/plain": [
       "VEHCOUNT  SEVERITYCODE\n",
       "0         1               0.758702\n",
       "          2               0.241298\n",
       "1         2               0.547810\n",
       "          1               0.452190\n",
       "2         1               0.756526\n",
       "          2               0.243474\n",
       "3         1               0.579554\n",
       "          2               0.420446\n",
       "4         1               0.555647\n",
       "          2               0.444353\n",
       "5         1               0.506616\n",
       "          2               0.493384\n",
       "6         1               0.589041\n",
       "          2               0.410959\n",
       "7         1               0.521739\n",
       "          2               0.478261\n",
       "8         1               0.666667\n",
       "          2               0.333333\n",
       "9         2               0.666667\n",
       "          1               0.333333\n",
       "10        2               1.000000\n",
       "11        1               0.500000\n",
       "          2               0.500000\n",
       "12        1               1.000000\n",
       "Name: SEVERITYCODE, dtype: float64"
      ]
     },
     "execution_count": 26,
     "metadata": {},
     "output_type": "execute_result"
    }
   ],
   "source": [
    "df.groupby([\"VEHCOUNT\"])['SEVERITYCODE'].value_counts(normalize=True)"
   ]
  },
  {
   "cell_type": "markdown",
   "metadata": {},
   "source": [
    "The date of the incident. "
   ]
  },
  {
   "cell_type": "code",
   "execution_count": 11,
   "metadata": {},
   "outputs": [
    {
     "data": {
      "text/plain": [
       "INCKEY\n",
       "1307      2013/03/27 00:00:00+00\n",
       "52200     2006/12/20 00:00:00+00\n",
       "26700     2004/11/18 00:00:00+00\n",
       "1144      2013/03/29 00:00:00+00\n",
       "17700     2004/01/28 00:00:00+00\n",
       "                   ...          \n",
       "309534    2018/11/12 00:00:00+00\n",
       "309085    2018/12/18 00:00:00+00\n",
       "311280    2019/01/19 00:00:00+00\n",
       "309514    2019/01/15 00:00:00+00\n",
       "308220    2018/11/30 00:00:00+00\n",
       "Name: INCDATE, Length: 194673, dtype: object"
      ]
     },
     "execution_count": 11,
     "metadata": {},
     "output_type": "execute_result"
    }
   ],
   "source": [
    "df['INCDATE']"
   ]
  },
  {
   "cell_type": "code",
   "execution_count": 12,
   "metadata": {},
   "outputs": [
    {
     "data": {
      "text/plain": [
       "INCKEY\n",
       "1307     2013-03-27 00:00:00+00:00\n",
       "52200    2006-12-20 00:00:00+00:00\n",
       "26700    2004-11-18 00:00:00+00:00\n",
       "1144     2013-03-29 00:00:00+00:00\n",
       "17700    2004-01-28 00:00:00+00:00\n",
       "                    ...           \n",
       "309534   2018-11-12 00:00:00+00:00\n",
       "309085   2018-12-18 00:00:00+00:00\n",
       "311280   2019-01-19 00:00:00+00:00\n",
       "309514   2019-01-15 00:00:00+00:00\n",
       "308220   2018-11-30 00:00:00+00:00\n",
       "Name: INCDATE, Length: 194673, dtype: datetime64[ns, UTC]"
      ]
     },
     "execution_count": 12,
     "metadata": {},
     "output_type": "execute_result"
    }
   ],
   "source": [
    "df['INCDATE'] = pd.to_datetime(df['INCDATE'])\n",
    "df['INCDATE']"
   ]
  },
  {
   "cell_type": "markdown",
   "metadata": {},
   "source": [
    "Create a new columns with the day of the week for each accident"
   ]
  },
  {
   "cell_type": "code",
   "execution_count": 13,
   "metadata": {},
   "outputs": [],
   "source": [
    "df['DAYWEEK'] = df['INCDATE'].dt.dayofweek"
   ]
  },
  {
   "cell_type": "markdown",
   "metadata": {},
   "source": [
    "Lets see how many type of accident we have per day of the week"
   ]
  },
  {
   "cell_type": "code",
   "execution_count": 14,
   "metadata": {},
   "outputs": [
    {
     "name": "stdout",
     "output_type": "stream",
     "text": [
      "DAYWEEK  SEVERITYCODE\n",
      "0        1               18365\n",
      "         2                7973\n",
      "1        1               19825\n",
      "         2                8731\n",
      "2        1               20021\n",
      "         2                8757\n",
      "3        1               20306\n",
      "         2                9018\n",
      "4        1               22774\n",
      "         2                9559\n",
      "5        1               19342\n",
      "         2                8047\n",
      "6        1               15852\n",
      "         2                6103\n",
      "Name: SEVERITYCODE, dtype: int64\n",
      "The day of the week with Monday=0, Sunday=6\n"
     ]
    }
   ],
   "source": [
    "print(df.groupby([\"DAYWEEK\"])['SEVERITYCODE'].value_counts())\n",
    "print(\"The day of the week with Monday=0, Sunday=6\")"
   ]
  },
  {
   "cell_type": "code",
   "execution_count": 15,
   "metadata": {},
   "outputs": [
    {
     "data": {
      "text/html": [
       "<div>\n",
       "<style scoped>\n",
       "    .dataframe tbody tr th:only-of-type {\n",
       "        vertical-align: middle;\n",
       "    }\n",
       "\n",
       "    .dataframe tbody tr th {\n",
       "        vertical-align: top;\n",
       "    }\n",
       "\n",
       "    .dataframe thead th {\n",
       "        text-align: right;\n",
       "    }\n",
       "</style>\n",
       "<table border=\"1\" class=\"dataframe\">\n",
       "  <thead>\n",
       "    <tr style=\"text-align: right;\">\n",
       "      <th></th>\n",
       "      <th>Monday</th>\n",
       "      <th>Tuesday</th>\n",
       "      <th>Wednesday</th>\n",
       "      <th>Thursday</th>\n",
       "      <th>Friday</th>\n",
       "      <th>Saturday</th>\n",
       "      <th>Sunday</th>\n",
       "    </tr>\n",
       "    <tr>\n",
       "      <th>Severity_Code</th>\n",
       "      <th></th>\n",
       "      <th></th>\n",
       "      <th></th>\n",
       "      <th></th>\n",
       "      <th></th>\n",
       "      <th></th>\n",
       "      <th></th>\n",
       "    </tr>\n",
       "  </thead>\n",
       "  <tbody>\n",
       "    <tr>\n",
       "      <th>Property Damage</th>\n",
       "      <td>18365</td>\n",
       "      <td>19825</td>\n",
       "      <td>20021</td>\n",
       "      <td>20306</td>\n",
       "      <td>22774</td>\n",
       "      <td>19342</td>\n",
       "      <td>15852</td>\n",
       "    </tr>\n",
       "    <tr>\n",
       "      <th>Injury</th>\n",
       "      <td>7973</td>\n",
       "      <td>8731</td>\n",
       "      <td>8757</td>\n",
       "      <td>9018</td>\n",
       "      <td>9559</td>\n",
       "      <td>8047</td>\n",
       "      <td>6103</td>\n",
       "    </tr>\n",
       "  </tbody>\n",
       "</table>\n",
       "</div>"
      ],
      "text/plain": [
       "                 Monday  Tuesday  Wednesday  Thursday  Friday  Saturday  \\\n",
       "Severity_Code                                                             \n",
       "Property Damage   18365    19825      20021     20306   22774     19342   \n",
       "Injury             7973     8731       8757      9018    9559      8047   \n",
       "\n",
       "                 Sunday  \n",
       "Severity_Code            \n",
       "Property Damage   15852  \n",
       "Injury             6103  "
      ]
     },
     "execution_count": 15,
     "metadata": {},
     "output_type": "execute_result"
    }
   ],
   "source": [
    "# create a dataframe with the result of DAYWEEK and SEVERITYCODE \n",
    "data_week = [['Property Damage', 18365, 19825, 20021, 20306, 22774, 19342, 15852], ['Injury', 7973, 8731, 8757, 9018, 9559, 8047, 6103]] \n",
    "  \n",
    "# Create the pandas DataFrame \n",
    "df_week = pd.DataFrame(data_week, columns = ['Severity_Code','Monday','Tuesday','Wednesday','Thursday','Friday','Saturday','Sunday']) \n",
    "df_week.set_index('Severity_Code', inplace=True)\n",
    "# print dataframe. \n",
    "df_week "
   ]
  },
  {
   "cell_type": "code",
   "execution_count": 16,
   "metadata": {},
   "outputs": [
    {
     "data": {
      "text/html": [
       "<div>\n",
       "<style scoped>\n",
       "    .dataframe tbody tr th:only-of-type {\n",
       "        vertical-align: middle;\n",
       "    }\n",
       "\n",
       "    .dataframe tbody tr th {\n",
       "        vertical-align: top;\n",
       "    }\n",
       "\n",
       "    .dataframe thead th {\n",
       "        text-align: right;\n",
       "    }\n",
       "</style>\n",
       "<table border=\"1\" class=\"dataframe\">\n",
       "  <thead>\n",
       "    <tr style=\"text-align: right;\">\n",
       "      <th>Severity_Code</th>\n",
       "      <th>Property Damage</th>\n",
       "      <th>Injury</th>\n",
       "    </tr>\n",
       "  </thead>\n",
       "  <tbody>\n",
       "    <tr>\n",
       "      <th>Monday</th>\n",
       "      <td>18365</td>\n",
       "      <td>7973</td>\n",
       "    </tr>\n",
       "    <tr>\n",
       "      <th>Tuesday</th>\n",
       "      <td>19825</td>\n",
       "      <td>8731</td>\n",
       "    </tr>\n",
       "    <tr>\n",
       "      <th>Wednesday</th>\n",
       "      <td>20021</td>\n",
       "      <td>8757</td>\n",
       "    </tr>\n",
       "    <tr>\n",
       "      <th>Thursday</th>\n",
       "      <td>20306</td>\n",
       "      <td>9018</td>\n",
       "    </tr>\n",
       "    <tr>\n",
       "      <th>Friday</th>\n",
       "      <td>22774</td>\n",
       "      <td>9559</td>\n",
       "    </tr>\n",
       "    <tr>\n",
       "      <th>Saturday</th>\n",
       "      <td>19342</td>\n",
       "      <td>8047</td>\n",
       "    </tr>\n",
       "    <tr>\n",
       "      <th>Sunday</th>\n",
       "      <td>15852</td>\n",
       "      <td>6103</td>\n",
       "    </tr>\n",
       "  </tbody>\n",
       "</table>\n",
       "</div>"
      ],
      "text/plain": [
       "Severity_Code  Property Damage  Injury\n",
       "Monday                   18365    7973\n",
       "Tuesday                  19825    8731\n",
       "Wednesday                20021    8757\n",
       "Thursday                 20306    9018\n",
       "Friday                   22774    9559\n",
       "Saturday                 19342    8047\n",
       "Sunday                   15852    6103"
      ]
     },
     "execution_count": 16,
     "metadata": {},
     "output_type": "execute_result"
    }
   ],
   "source": [
    "df_week_1 = df_week.loc[['Property Damage', 'Injury'], ['Monday','Tuesday','Wednesday','Thursday','Friday','Saturday','Sunday']].transpose()\n",
    "df_week_1"
   ]
  },
  {
   "cell_type": "code",
   "execution_count": 17,
   "metadata": {},
   "outputs": [
    {
     "data": {
      "image/png": "[encoded data removed]",
      "text/plain": [
       "<Figure size 720x432 with 1 Axes>"
      ]
     },
     "metadata": {
      "needs_background": "light"
     },
     "output_type": "display_data"
    }
   ],
   "source": [
    "df_week_1.plot(kind='bar', figsize=(10, 6))\n",
    "\n",
    "plt.xlabel('Days of the Week') # add to x-label to the plot\n",
    "plt.ylabel('Number of collisions') # add y-label to the plot\n",
    "plt.title('Seattle Traffic Accident Severity from 2004 to Present by days of the week') # add title to the plot\n",
    "\n",
    "plt.show()"
   ]
  },
  {
   "cell_type": "code",
   "execution_count": 19,
   "metadata": {},
   "outputs": [
    {
     "data": {
      "text/html": [
       "<div>\n",
       "<style scoped>\n",
       "    .dataframe tbody tr th:only-of-type {\n",
       "        vertical-align: middle;\n",
       "    }\n",
       "\n",
       "    .dataframe tbody tr th {\n",
       "        vertical-align: top;\n",
       "    }\n",
       "\n",
       "    .dataframe thead th {\n",
       "        text-align: right;\n",
       "    }\n",
       "</style>\n",
       "<table border=\"1\" class=\"dataframe\">\n",
       "  <thead>\n",
       "    <tr style=\"text-align: right;\">\n",
       "      <th>Severity_Code</th>\n",
       "      <th>Property Damage</th>\n",
       "      <th>Injury</th>\n",
       "      <th>total</th>\n",
       "    </tr>\n",
       "  </thead>\n",
       "  <tbody>\n",
       "    <tr>\n",
       "      <th>Monday</th>\n",
       "      <td>18365</td>\n",
       "      <td>7973</td>\n",
       "      <td>26338</td>\n",
       "    </tr>\n",
       "    <tr>\n",
       "      <th>Tuesday</th>\n",
       "      <td>19825</td>\n",
       "      <td>8731</td>\n",
       "      <td>28556</td>\n",
       "    </tr>\n",
       "    <tr>\n",
       "      <th>Wednesday</th>\n",
       "      <td>20021</td>\n",
       "      <td>8757</td>\n",
       "      <td>28778</td>\n",
       "    </tr>\n",
       "    <tr>\n",
       "      <th>Thursday</th>\n",
       "      <td>20306</td>\n",
       "      <td>9018</td>\n",
       "      <td>29324</td>\n",
       "    </tr>\n",
       "    <tr>\n",
       "      <th>Friday</th>\n",
       "      <td>22774</td>\n",
       "      <td>9559</td>\n",
       "      <td>32333</td>\n",
       "    </tr>\n",
       "    <tr>\n",
       "      <th>Saturday</th>\n",
       "      <td>19342</td>\n",
       "      <td>8047</td>\n",
       "      <td>27389</td>\n",
       "    </tr>\n",
       "    <tr>\n",
       "      <th>Sunday</th>\n",
       "      <td>15852</td>\n",
       "      <td>6103</td>\n",
       "      <td>21955</td>\n",
       "    </tr>\n",
       "  </tbody>\n",
       "</table>\n",
       "</div>"
      ],
      "text/plain": [
       "Severity_Code  Property Damage  Injury  total\n",
       "Monday                   18365    7973  26338\n",
       "Tuesday                  19825    8731  28556\n",
       "Wednesday                20021    8757  28778\n",
       "Thursday                 20306    9018  29324\n",
       "Friday                   22774    9559  32333\n",
       "Saturday                 19342    8047  27389\n",
       "Sunday                   15852    6103  21955"
      ]
     },
     "execution_count": 19,
     "metadata": {},
     "output_type": "execute_result"
    }
   ],
   "source": [
    "df_week_1['total'] = df_week_1.sum(axis=1)\n",
    "df_week_1"
   ]
  },
  {
   "cell_type": "code",
   "execution_count": 20,
   "metadata": {},
   "outputs": [
    {
     "data": {
      "text/html": [
       "<div>\n",
       "<style scoped>\n",
       "    .dataframe tbody tr th:only-of-type {\n",
       "        vertical-align: middle;\n",
       "    }\n",
       "\n",
       "    .dataframe tbody tr th {\n",
       "        vertical-align: top;\n",
       "    }\n",
       "\n",
       "    .dataframe thead th {\n",
       "        text-align: right;\n",
       "    }\n",
       "</style>\n",
       "<table border=\"1\" class=\"dataframe\">\n",
       "  <thead>\n",
       "    <tr style=\"text-align: right;\">\n",
       "      <th>Severity_Code</th>\n",
       "      <th>Property Damage</th>\n",
       "      <th>Injury</th>\n",
       "    </tr>\n",
       "  </thead>\n",
       "  <tbody>\n",
       "    <tr>\n",
       "      <th>Monday</th>\n",
       "      <td>0.697281</td>\n",
       "      <td>0.302719</td>\n",
       "    </tr>\n",
       "    <tr>\n",
       "      <th>Tuesday</th>\n",
       "      <td>0.694250</td>\n",
       "      <td>0.305750</td>\n",
       "    </tr>\n",
       "    <tr>\n",
       "      <th>Wednesday</th>\n",
       "      <td>0.695705</td>\n",
       "      <td>0.304295</td>\n",
       "    </tr>\n",
       "    <tr>\n",
       "      <th>Thursday</th>\n",
       "      <td>0.692470</td>\n",
       "      <td>0.307530</td>\n",
       "    </tr>\n",
       "    <tr>\n",
       "      <th>Friday</th>\n",
       "      <td>0.704358</td>\n",
       "      <td>0.295642</td>\n",
       "    </tr>\n",
       "    <tr>\n",
       "      <th>Saturday</th>\n",
       "      <td>0.706196</td>\n",
       "      <td>0.293804</td>\n",
       "    </tr>\n",
       "    <tr>\n",
       "      <th>Sunday</th>\n",
       "      <td>0.722022</td>\n",
       "      <td>0.277978</td>\n",
       "    </tr>\n",
       "  </tbody>\n",
       "</table>\n",
       "</div>"
      ],
      "text/plain": [
       "Severity_Code  Property Damage    Injury\n",
       "Monday                0.697281  0.302719\n",
       "Tuesday               0.694250  0.305750\n",
       "Wednesday             0.695705  0.304295\n",
       "Thursday              0.692470  0.307530\n",
       "Friday                0.704358  0.295642\n",
       "Saturday              0.706196  0.293804\n",
       "Sunday                0.722022  0.277978"
      ]
     },
     "execution_count": 20,
     "metadata": {},
     "output_type": "execute_result"
    }
   ],
   "source": [
    "df_week_1 = df_week_1.div(df_week_1.total, axis='index')\n",
    "df_week_1.drop(['total'], axis=1,inplace=True)\n",
    "df_week_1"
   ]
  },
  {
   "cell_type": "code",
   "execution_count": 22,
   "metadata": {},
   "outputs": [
    {
     "data": {
      "image/png": "[encoded data removed]",
      "text/plain": [
       "<Figure size 1296x432 with 1 Axes>"
      ]
     },
     "metadata": {
      "needs_background": "light"
     },
     "output_type": "display_data"
    }
   ],
   "source": [
    "ax0 = df_week_1.plot(kind='bar',\n",
    "                    figsize=(18, 6),\n",
    "                    width=0.8, \n",
    "                    fontsize=14\n",
    "                   )\n",
    "ax0.legend(fontsize=14, facecolor ='white')\n",
    "ax0.set_title('Seattle Traffic Accident Severity from 2004 to Present by days of the week', fontsize=16)\n",
    "ax0.set_facecolor('white')\n",
    "ax0.set_xlabel('Days of the Week', fontsize=14)\n",
    "ax0.set_ylabel('Percentage of collisions', fontsize=14)\n",
    "ax0.set_ylim(0, 1)\n",
    "\n",
    "# annotate value labels\n",
    "for p in ax0.patches:\n",
    "    ax0.annotate(\"{:.2%}\".format(p.get_height()),\n",
    "                xy=(p.get_x()+0.01, p.get_height()+0.01), fontsize=14)\n"
   ]
  },
  {
   "cell_type": "markdown",
   "metadata": {},
   "source": [
    "Normalized the values"
   ]
  },
  {
   "cell_type": "code",
   "execution_count": 82,
   "metadata": {},
   "outputs": [
    {
     "name": "stdout",
     "output_type": "stream",
     "text": [
      "DAYWEEK  SEVERITYCODE\n",
      "0        1               0.697281\n",
      "         2               0.302719\n",
      "1        1               0.694250\n",
      "         2               0.305750\n",
      "2        1               0.695705\n",
      "         2               0.304295\n",
      "3        1               0.692470\n",
      "         2               0.307530\n",
      "4        1               0.704358\n",
      "         2               0.295642\n",
      "5        1               0.706196\n",
      "         2               0.293804\n",
      "6        1               0.722022\n",
      "         2               0.277978\n",
      "Name: SEVERITYCODE, dtype: float64\n",
      "The day of the week with Monday=0, Sunday=6\n"
     ]
    }
   ],
   "source": [
    "print(df.groupby([\"DAYWEEK\"])['SEVERITYCODE'].value_counts(normalize=True))\n",
    "print(\"The day of the week with Monday=0, Sunday=6\")"
   ]
  },
  {
   "cell_type": "markdown",
   "metadata": {},
   "source": [
    "Category of junction at which collision took place "
   ]
  },
  {
   "cell_type": "code",
   "execution_count": 36,
   "metadata": {},
   "outputs": [
    {
     "data": {
      "text/plain": [
       "Mid-Block (not related to intersection)              89800\n",
       "At Intersection (intersection related)               62810\n",
       "Mid-Block (but intersection related)                 22790\n",
       "Driveway Junction                                    10671\n",
       "At Intersection (but not related to intersection)     2098\n",
       "Ramp Junction                                          166\n",
       "Unknown                                                  9\n",
       "Name: JUNCTIONTYPE, dtype: int64"
      ]
     },
     "execution_count": 36,
     "metadata": {},
     "output_type": "execute_result"
    }
   ],
   "source": [
    "df['JUNCTIONTYPE'].value_counts()"
   ]
  },
  {
   "cell_type": "markdown",
   "metadata": {},
   "source": [
    "Combine and normalize the values with the severity code"
   ]
  },
  {
   "cell_type": "code",
   "execution_count": 37,
   "metadata": {},
   "outputs": [
    {
     "data": {
      "text/plain": [
       "JUNCTIONTYPE                                       SEVERITYCODE\n",
       "At Intersection (but not related to intersection)  1               0.703051\n",
       "                                                   2               0.296949\n",
       "At Intersection (intersection related)             1               0.567362\n",
       "                                                   2               0.432638\n",
       "Driveway Junction                                  1               0.696936\n",
       "                                                   2               0.303064\n",
       "Mid-Block (but intersection related)               1               0.679816\n",
       "                                                   2               0.320184\n",
       "Mid-Block (not related to intersection)            1               0.783920\n",
       "                                                   2               0.216080\n",
       "Ramp Junction                                      1               0.674699\n",
       "                                                   2               0.325301\n",
       "Unknown                                            1               0.777778\n",
       "                                                   2               0.222222\n",
       "Name: SEVERITYCODE, dtype: float64"
      ]
     },
     "execution_count": 37,
     "metadata": {},
     "output_type": "execute_result"
    }
   ],
   "source": [
    "df.groupby([\"JUNCTIONTYPE\"])['SEVERITYCODE'].value_counts(normalize=True)"
   ]
  },
  {
   "cell_type": "markdown",
   "metadata": {},
   "source": [
    "Normalized the values"
   ]
  },
  {
   "cell_type": "markdown",
   "metadata": {},
   "source": [
    "Whether or not a driver involved was under the influence of drugs or alcohol. "
   ]
  },
  {
   "cell_type": "code",
   "execution_count": 38,
   "metadata": {},
   "outputs": [
    {
     "data": {
      "text/plain": [
       "N    100274\n",
       "0     80394\n",
       "Y      5126\n",
       "1      3995\n",
       "Name: UNDERINFL, dtype: int64"
      ]
     },
     "execution_count": 38,
     "metadata": {},
     "output_type": "execute_result"
    }
   ],
   "source": [
    "df['UNDERINFL'].value_counts()"
   ]
  },
  {
   "cell_type": "code",
   "execution_count": 39,
   "metadata": {},
   "outputs": [
    {
     "data": {
      "text/plain": [
       "UNDERINFL  SEVERITYCODE\n",
       "0          1               0.717628\n",
       "           2               0.282372\n",
       "1          1               0.593742\n",
       "           2               0.406258\n",
       "N          1               0.691884\n",
       "           2               0.308116\n",
       "Y          1               0.621732\n",
       "           2               0.378268\n",
       "Name: SEVERITYCODE, dtype: float64"
      ]
     },
     "execution_count": 39,
     "metadata": {},
     "output_type": "execute_result"
    }
   ],
   "source": [
    "df.groupby([\"UNDERINFL\"])['SEVERITYCODE'].value_counts(normalize=True)"
   ]
  },
  {
   "cell_type": "markdown",
   "metadata": {},
   "source": [
    "A description of the weather conditions during the time of the collision. "
   ]
  },
  {
   "cell_type": "code",
   "execution_count": 40,
   "metadata": {},
   "outputs": [
    {
     "data": {
      "text/plain": [
       "Clear                       111135\n",
       "Raining                      33145\n",
       "Overcast                     27714\n",
       "Unknown                      15091\n",
       "Snowing                        907\n",
       "Other                          832\n",
       "Fog/Smog/Smoke                 569\n",
       "Sleet/Hail/Freezing Rain       113\n",
       "Blowing Sand/Dirt               56\n",
       "Severe Crosswind                25\n",
       "Partly Cloudy                    5\n",
       "Name: WEATHER, dtype: int64"
      ]
     },
     "execution_count": 40,
     "metadata": {},
     "output_type": "execute_result"
    }
   ],
   "source": [
    "df['WEATHER'].value_counts()"
   ]
  },
  {
   "cell_type": "code",
   "execution_count": 38,
   "metadata": {},
   "outputs": [
    {
     "name": "stdout",
     "output_type": "stream",
     "text": [
      "WEATHER            SEVERITYCODE\n",
      "Draft              1               14991\n",
      "                   2                 932\n",
      "Good               1               94266\n",
      "                   2               44588\n",
      "Reduce Visibility  1               23213\n",
      "                   2               11577\n",
      "Windy              1                  18\n",
      "                   2                   7\n",
      "Name: SEVERITYCODE, dtype: int64\n"
     ]
    },
    {
     "name": "stderr",
     "output_type": "stream",
     "text": [
      "/home/jupyterlab/conda/envs/python/lib/python3.6/site-packages/pandas/core/series.py:4569: SettingWithCopyWarning: \n",
      "A value is trying to be set on a copy of a slice from a DataFrame\n",
      "\n",
      "See the caveats in the documentation: https://pandas.pydata.org/pandas-docs/stable/user_guide/indexing.html#returning-a-view-versus-a-copy\n",
      "  method=method,\n"
     ]
    }
   ],
   "source": [
    "df_weather = df_geo[['SEVERITYCODE','WEATHER']]\n",
    "# Replace value of weather to visibility condition\n",
    "df_weather['WEATHER'].replace(to_replace=['Clear', 'Raining', 'Overcast', 'Unknown', 'Snowing', 'Other', 'Fog/Smog/Smoke', 'Sleet/Hail/Freezing Rain', 'Blowing Sand/Dirt', 'Severe Crosswind','Partly Cloudy'], value=['Good','Reduce Visibility','Good','Draft','Reduce Visibility','Draft','Reduce Visibility','Reduce Visibility','Reduce Visibility','Windy','Good'],inplace=True)\n",
    "print(df_weather.groupby([\"WEATHER\"])['SEVERITYCODE'].value_counts())"
   ]
  },
  {
   "cell_type": "markdown",
   "metadata": {},
   "source": [
    "Delete the type \"Draft\" that menas other and unknown weather"
   ]
  },
  {
   "cell_type": "code",
   "execution_count": 55,
   "metadata": {},
   "outputs": [
    {
     "data": {
      "text/html": [
       "<div>\n",
       "<style scoped>\n",
       "    .dataframe tbody tr th:only-of-type {\n",
       "        vertical-align: middle;\n",
       "    }\n",
       "\n",
       "    .dataframe tbody tr th {\n",
       "        vertical-align: top;\n",
       "    }\n",
       "\n",
       "    .dataframe thead th {\n",
       "        text-align: right;\n",
       "    }\n",
       "</style>\n",
       "<table border=\"1\" class=\"dataframe\">\n",
       "  <thead>\n",
       "    <tr style=\"text-align: right;\">\n",
       "      <th></th>\n",
       "      <th>Good</th>\n",
       "      <th>Reduce Visibility</th>\n",
       "      <th>Windy</th>\n",
       "    </tr>\n",
       "    <tr>\n",
       "      <th>Severity_Code</th>\n",
       "      <th></th>\n",
       "      <th></th>\n",
       "      <th></th>\n",
       "    </tr>\n",
       "  </thead>\n",
       "  <tbody>\n",
       "    <tr>\n",
       "      <th>Property Damage</th>\n",
       "      <td>94266</td>\n",
       "      <td>23213</td>\n",
       "      <td>18</td>\n",
       "    </tr>\n",
       "    <tr>\n",
       "      <th>Injury</th>\n",
       "      <td>44588</td>\n",
       "      <td>11577</td>\n",
       "      <td>7</td>\n",
       "    </tr>\n",
       "  </tbody>\n",
       "</table>\n",
       "</div>"
      ],
      "text/plain": [
       "                  Good  Reduce Visibility  Windy\n",
       "Severity_Code                                   \n",
       "Property Damage  94266              23213     18\n",
       "Injury           44588              11577      7"
      ]
     },
     "execution_count": 55,
     "metadata": {},
     "output_type": "execute_result"
    }
   ],
   "source": [
    "# create a dataframe with the result of Weather and SEVERITYCODE \n",
    "data_weather = [['Property Damage', 14991, 94266, 23213, 18], ['Injury', 932, 44588, 11577, 7]] \n",
    "  \n",
    "# Create the pandas DataFrame \n",
    "df_wea = pd.DataFrame(data_weather, columns = ['Severity_Code','Draft','Good','Reduce Visibility','Windy']) \n",
    "df_wea.set_index('Severity_Code', inplace=True)\n",
    "df_wea.drop(['Draft'], axis=1,inplace=True)\n",
    "# print dataframe. \n",
    "df_wea "
   ]
  },
  {
   "cell_type": "code",
   "execution_count": 56,
   "metadata": {},
   "outputs": [
    {
     "data": {
      "text/html": [
       "<div>\n",
       "<style scoped>\n",
       "    .dataframe tbody tr th:only-of-type {\n",
       "        vertical-align: middle;\n",
       "    }\n",
       "\n",
       "    .dataframe tbody tr th {\n",
       "        vertical-align: top;\n",
       "    }\n",
       "\n",
       "    .dataframe thead th {\n",
       "        text-align: right;\n",
       "    }\n",
       "</style>\n",
       "<table border=\"1\" class=\"dataframe\">\n",
       "  <thead>\n",
       "    <tr style=\"text-align: right;\">\n",
       "      <th></th>\n",
       "      <th>Good</th>\n",
       "      <th>Reduce Visibility</th>\n",
       "      <th>Windy</th>\n",
       "    </tr>\n",
       "    <tr>\n",
       "      <th>Severity_Code</th>\n",
       "      <th></th>\n",
       "      <th></th>\n",
       "      <th></th>\n",
       "    </tr>\n",
       "  </thead>\n",
       "  <tbody>\n",
       "    <tr>\n",
       "      <th>Property Damage</th>\n",
       "      <td>0.802284</td>\n",
       "      <td>0.197562</td>\n",
       "      <td>0.000153</td>\n",
       "    </tr>\n",
       "    <tr>\n",
       "      <th>Injury</th>\n",
       "      <td>0.793776</td>\n",
       "      <td>0.206099</td>\n",
       "      <td>0.000125</td>\n",
       "    </tr>\n",
       "  </tbody>\n",
       "</table>\n",
       "</div>"
      ],
      "text/plain": [
       "                     Good  Reduce Visibility     Windy\n",
       "Severity_Code                                         \n",
       "Property Damage  0.802284           0.197562  0.000153\n",
       "Injury           0.793776           0.206099  0.000125"
      ]
     },
     "execution_count": 56,
     "metadata": {},
     "output_type": "execute_result"
    }
   ],
   "source": [
    "df_wea['total'] = df_wea.sum(axis=1)\n",
    "df_wea = df_wea.div(df_wea.total, axis='index')\n",
    "df_wea.drop(['total'], axis=1,inplace=True)\n",
    "df_wea"
   ]
  },
  {
   "cell_type": "code",
   "execution_count": 57,
   "metadata": {},
   "outputs": [
    {
     "data": {
      "image/png": "[encoded data removed]",
      "text/plain": [
       "<Figure size 1440x576 with 1 Axes>"
      ]
     },
     "metadata": {
      "needs_background": "light"
     },
     "output_type": "display_data"
    }
   ],
   "source": [
    "ax0 = df_wea.plot(kind='bar',\n",
    "                    figsize=(20, 8),\n",
    "                    width=0.8, \n",
    "                    fontsize=14\n",
    "                   )\n",
    "ax0.legend(fontsize=14, facecolor ='white')\n",
    "ax0.set_title('Seattle Traffic Accident Severity from 2004 to Present with weather conditions', fontsize=16)\n",
    "ax0.set_facecolor('white')\n",
    "ax0.set_xlabel('Severity Code', fontsize=14)\n",
    "ax0.set_ylabel('Percentage of collisions', fontsize=14)\n",
    "ax0.set_ylim(0, 1)\n",
    "\n",
    "# annotate value labels\n",
    "for p in ax0.patches:\n",
    "    ax0.annotate(\"{:.2%}\".format(p.get_height()),\n",
    "                xy=(p.get_x()+0.01, p.get_height()+0.01), fontsize=14)"
   ]
  },
  {
   "cell_type": "code",
   "execution_count": 41,
   "metadata": {},
   "outputs": [
    {
     "data": {
      "text/plain": [
       "WEATHER                   SEVERITYCODE\n",
       "Blowing Sand/Dirt         1               0.732143\n",
       "                          2               0.267857\n",
       "Clear                     1               0.677509\n",
       "                          2               0.322491\n",
       "Fog/Smog/Smoke            1               0.671353\n",
       "                          2               0.328647\n",
       "Other                     1               0.860577\n",
       "                          2               0.139423\n",
       "Overcast                  1               0.684456\n",
       "                          2               0.315544\n",
       "Partly Cloudy             2               0.600000\n",
       "                          1               0.400000\n",
       "Raining                   1               0.662815\n",
       "                          2               0.337185\n",
       "Severe Crosswind          1               0.720000\n",
       "                          2               0.280000\n",
       "Sleet/Hail/Freezing Rain  1               0.752212\n",
       "                          2               0.247788\n",
       "Snowing                   1               0.811466\n",
       "                          2               0.188534\n",
       "Unknown                   1               0.945928\n",
       "                          2               0.054072\n",
       "Name: SEVERITYCODE, dtype: float64"
      ]
     },
     "execution_count": 41,
     "metadata": {},
     "output_type": "execute_result"
    }
   ],
   "source": [
    "df.groupby([\"WEATHER\"])['SEVERITYCODE'].value_counts(normalize=True)"
   ]
  },
  {
   "cell_type": "markdown",
   "metadata": {},
   "source": [
    "The condition of the road during the collision. "
   ]
  },
  {
   "cell_type": "code",
   "execution_count": 42,
   "metadata": {},
   "outputs": [
    {
     "data": {
      "text/plain": [
       "Dry               124510\n",
       "Wet                47474\n",
       "Unknown            15078\n",
       "Ice                 1209\n",
       "Snow/Slush          1004\n",
       "Other                132\n",
       "Standing Water       115\n",
       "Sand/Mud/Dirt         75\n",
       "Oil                   64\n",
       "Name: ROADCOND, dtype: int64"
      ]
     },
     "execution_count": 42,
     "metadata": {},
     "output_type": "execute_result"
    }
   ],
   "source": [
    "df['ROADCOND'].value_counts()"
   ]
  },
  {
   "cell_type": "code",
   "execution_count": 64,
   "metadata": {},
   "outputs": [
    {
     "name": "stdout",
     "output_type": "stream",
     "text": [
      "ROADCOND  SEVERITYCODE\n",
      "Draft     1               14418\n",
      "          2                 792\n",
      "Dry       1               84446\n",
      "          2               40064\n",
      "Ice       1                 936\n",
      "          2                 273\n",
      "Oil       1                  40\n",
      "          2                  24\n",
      "Sand      1                  52\n",
      "          2                  23\n",
      "Snow      1                 837\n",
      "          2                 167\n",
      "Water     1                  85\n",
      "          2                  30\n",
      "Wet       1               31719\n",
      "          2               15755\n",
      "Name: SEVERITYCODE, dtype: int64\n"
     ]
    },
    {
     "name": "stderr",
     "output_type": "stream",
     "text": [
      "/home/jupyterlab/conda/envs/python/lib/python3.6/site-packages/pandas/core/series.py:4569: SettingWithCopyWarning: \n",
      "A value is trying to be set on a copy of a slice from a DataFrame\n",
      "\n",
      "See the caveats in the documentation: https://pandas.pydata.org/pandas-docs/stable/user_guide/indexing.html#returning-a-view-versus-a-copy\n",
      "  method=method,\n"
     ]
    }
   ],
   "source": [
    "df_road = df_geo[['SEVERITYCODE','ROADCOND']]\n",
    "# Replace value of light conditions to visibility light condition\n",
    "df_road['ROADCOND'].replace(to_replace=['Dry', 'Ice', 'Oil', 'Other', 'Sand/Mud/Dirt', 'Snow/Slush', 'Standing Water', 'Unknown', 'Wet'], value=['Dry','Ice', 'Oil','Draft','Sand','Snow','Water','Draft','Wet'],inplace=True)\n",
    "print(df_road.groupby([\"ROADCOND\"])['SEVERITYCODE'].value_counts())"
   ]
  },
  {
   "cell_type": "code",
   "execution_count": 70,
   "metadata": {},
   "outputs": [
    {
     "data": {
      "text/html": [
       "<div>\n",
       "<style scoped>\n",
       "    .dataframe tbody tr th:only-of-type {\n",
       "        vertical-align: middle;\n",
       "    }\n",
       "\n",
       "    .dataframe tbody tr th {\n",
       "        vertical-align: top;\n",
       "    }\n",
       "\n",
       "    .dataframe thead th {\n",
       "        text-align: right;\n",
       "    }\n",
       "</style>\n",
       "<table border=\"1\" class=\"dataframe\">\n",
       "  <thead>\n",
       "    <tr style=\"text-align: right;\">\n",
       "      <th></th>\n",
       "      <th>Dry</th>\n",
       "      <th>Ice</th>\n",
       "      <th>Oil</th>\n",
       "      <th>Sand</th>\n",
       "      <th>Snow</th>\n",
       "      <th>Water</th>\n",
       "      <th>Wet</th>\n",
       "    </tr>\n",
       "    <tr>\n",
       "      <th>Severity_Code</th>\n",
       "      <th></th>\n",
       "      <th></th>\n",
       "      <th></th>\n",
       "      <th></th>\n",
       "      <th></th>\n",
       "      <th></th>\n",
       "      <th></th>\n",
       "    </tr>\n",
       "  </thead>\n",
       "  <tbody>\n",
       "    <tr>\n",
       "      <th>Property Damage</th>\n",
       "      <td>84446</td>\n",
       "      <td>936</td>\n",
       "      <td>40</td>\n",
       "      <td>52</td>\n",
       "      <td>837</td>\n",
       "      <td>85</td>\n",
       "      <td>31719</td>\n",
       "    </tr>\n",
       "    <tr>\n",
       "      <th>Injury</th>\n",
       "      <td>400064</td>\n",
       "      <td>273</td>\n",
       "      <td>24</td>\n",
       "      <td>23</td>\n",
       "      <td>167</td>\n",
       "      <td>30</td>\n",
       "      <td>15755</td>\n",
       "    </tr>\n",
       "  </tbody>\n",
       "</table>\n",
       "</div>"
      ],
      "text/plain": [
       "                    Dry  Ice  Oil  Sand  Snow  Water    Wet\n",
       "Severity_Code                                              \n",
       "Property Damage   84446  936   40    52   837     85  31719\n",
       "Injury           400064  273   24    23   167     30  15755"
      ]
     },
     "execution_count": 70,
     "metadata": {},
     "output_type": "execute_result"
    }
   ],
   "source": [
    "# create a dataframe with the result of road condition and SEVERITYCODE \n",
    "data_road = [['Property Damage', 14418, 84446, 936, 40, 52, 837, 85, 31719], ['Injury', 792, 400064, 273, 24, 23, 167, 30, 15755]] \n",
    "  \n",
    "# Create the pandas DataFrame \n",
    "df_rd = pd.DataFrame(data_road, columns = ['Severity_Code','Draft', 'Dry', 'Ice', 'Oil', 'Sand', 'Snow', 'Water', 'Wet']) \n",
    "df_rd.set_index('Severity_Code', inplace=True)\n",
    "df_rd.drop(['Draft'], axis=1,inplace=True)\n",
    "# print dataframe. \n",
    "df_rd "
   ]
  },
  {
   "cell_type": "code",
   "execution_count": 71,
   "metadata": {},
   "outputs": [
    {
     "data": {
      "text/html": [
       "<div>\n",
       "<style scoped>\n",
       "    .dataframe tbody tr th:only-of-type {\n",
       "        vertical-align: middle;\n",
       "    }\n",
       "\n",
       "    .dataframe tbody tr th {\n",
       "        vertical-align: top;\n",
       "    }\n",
       "\n",
       "    .dataframe thead th {\n",
       "        text-align: right;\n",
       "    }\n",
       "</style>\n",
       "<table border=\"1\" class=\"dataframe\">\n",
       "  <thead>\n",
       "    <tr style=\"text-align: right;\">\n",
       "      <th></th>\n",
       "      <th>Dry</th>\n",
       "      <th>Ice</th>\n",
       "      <th>Oil</th>\n",
       "      <th>Sand</th>\n",
       "      <th>Snow</th>\n",
       "      <th>Water</th>\n",
       "      <th>Wet</th>\n",
       "    </tr>\n",
       "    <tr>\n",
       "      <th>Severity_Code</th>\n",
       "      <th></th>\n",
       "      <th></th>\n",
       "      <th></th>\n",
       "      <th></th>\n",
       "      <th></th>\n",
       "      <th></th>\n",
       "      <th></th>\n",
       "    </tr>\n",
       "  </thead>\n",
       "  <tbody>\n",
       "    <tr>\n",
       "      <th>Property Damage</th>\n",
       "      <td>0.714947</td>\n",
       "      <td>0.007924</td>\n",
       "      <td>0.000339</td>\n",
       "      <td>0.000440</td>\n",
       "      <td>0.007086</td>\n",
       "      <td>0.000720</td>\n",
       "      <td>0.268543</td>\n",
       "    </tr>\n",
       "    <tr>\n",
       "      <th>Injury</th>\n",
       "      <td>0.960916</td>\n",
       "      <td>0.000656</td>\n",
       "      <td>0.000058</td>\n",
       "      <td>0.000055</td>\n",
       "      <td>0.000401</td>\n",
       "      <td>0.000072</td>\n",
       "      <td>0.037842</td>\n",
       "    </tr>\n",
       "  </tbody>\n",
       "</table>\n",
       "</div>"
      ],
      "text/plain": [
       "                      Dry       Ice       Oil      Sand      Snow     Water  \\\n",
       "Severity_Code                                                                 \n",
       "Property Damage  0.714947  0.007924  0.000339  0.000440  0.007086  0.000720   \n",
       "Injury           0.960916  0.000656  0.000058  0.000055  0.000401  0.000072   \n",
       "\n",
       "                      Wet  \n",
       "Severity_Code              \n",
       "Property Damage  0.268543  \n",
       "Injury           0.037842  "
      ]
     },
     "execution_count": 71,
     "metadata": {},
     "output_type": "execute_result"
    }
   ],
   "source": [
    "df_rd['total'] = df_rd.sum(axis=1)\n",
    "df_rd = df_rd.div(df_rd.total, axis='index')\n",
    "df_rd.drop(['total'], axis=1,inplace=True)\n",
    "df_rd"
   ]
  },
  {
   "cell_type": "code",
   "execution_count": 72,
   "metadata": {},
   "outputs": [
    {
     "data": {
      "image/png": "[encoded data removed]",
      "text/plain": [
       "<Figure size 1440x576 with 1 Axes>"
      ]
     },
     "metadata": {
      "needs_background": "light"
     },
     "output_type": "display_data"
    }
   ],
   "source": [
    "ax0 = df_rd.plot(kind='bar',\n",
    "                    figsize=(20, 8),\n",
    "                    width=0.8, \n",
    "                    fontsize=14\n",
    "                   )\n",
    "ax0.legend(fontsize=14, facecolor ='white')\n",
    "ax0.set_title('Seattle Traffic Accident Severity from 2004 to Present with road conditions', fontsize=16)\n",
    "ax0.set_facecolor('white')\n",
    "ax0.set_xlabel('Severity Code', fontsize=14)\n",
    "ax0.set_ylabel('Percentage of collisions', fontsize=14)\n",
    "ax0.set_ylim(0, 1)\n",
    "\n",
    "# annotate value labels\n",
    "for p in ax0.patches:\n",
    "    ax0.annotate(\"{:.2%}\".format(p.get_height()),\n",
    "                xy=(p.get_x()+0.01, p.get_height()+0.01), fontsize=14)"
   ]
  },
  {
   "cell_type": "code",
   "execution_count": 43,
   "metadata": {},
   "outputs": [
    {
     "data": {
      "text/plain": [
       "ROADCOND        SEVERITYCODE\n",
       "Dry             1               0.678227\n",
       "                2               0.321773\n",
       "Ice             1               0.774194\n",
       "                2               0.225806\n",
       "Oil             1               0.625000\n",
       "                2               0.375000\n",
       "Other           1               0.674242\n",
       "                2               0.325758\n",
       "Sand/Mud/Dirt   1               0.693333\n",
       "                2               0.306667\n",
       "Snow/Slush      1               0.833665\n",
       "                2               0.166335\n",
       "Standing Water  1               0.739130\n",
       "                2               0.260870\n",
       "Unknown         1               0.950325\n",
       "                2               0.049675\n",
       "Wet             1               0.668134\n",
       "                2               0.331866\n",
       "Name: SEVERITYCODE, dtype: float64"
      ]
     },
     "execution_count": 43,
     "metadata": {},
     "output_type": "execute_result"
    }
   ],
   "source": [
    "df.groupby([\"ROADCOND\"])['SEVERITYCODE'].value_counts(normalize=True)"
   ]
  },
  {
   "cell_type": "markdown",
   "metadata": {},
   "source": [
    "The light conditions during the collision. "
   ]
  },
  {
   "cell_type": "code",
   "execution_count": 18,
   "metadata": {},
   "outputs": [
    {
     "data": {
      "text/plain": [
       "Daylight                    116137\n",
       "Dark - Street Lights On      48507\n",
       "Unknown                      13473\n",
       "Dusk                          5902\n",
       "Dawn                          2502\n",
       "Dark - No Street Lights       1537\n",
       "Dark - Street Lights Off      1199\n",
       "Other                          235\n",
       "Dark - Unknown Lighting         11\n",
       "Name: LIGHTCOND, dtype: int64"
      ]
     },
     "execution_count": 18,
     "metadata": {},
     "output_type": "execute_result"
    }
   ],
   "source": [
    "df['LIGHTCOND'].value_counts()"
   ]
  },
  {
   "cell_type": "code",
   "execution_count": 19,
   "metadata": {},
   "outputs": [
    {
     "name": "stdout",
     "output_type": "stream",
     "text": [
      "LIGHTCOND  SEVERITYCODE\n",
      "Bad        1                2093\n",
      "           2                 654\n",
      "Draft      1               13051\n",
      "           2                 657\n",
      "Good       1               77593\n",
      "           2               38544\n",
      "Medium     1               39668\n",
      "           2               17243\n",
      "Name: SEVERITYCODE, dtype: int64\n"
     ]
    },
    {
     "name": "stderr",
     "output_type": "stream",
     "text": [
      "/home/jupyterlab/conda/envs/python/lib/python3.6/site-packages/pandas/core/generic.py:6746: SettingWithCopyWarning: \n",
      "A value is trying to be set on a copy of a slice from a DataFrame\n",
      "\n",
      "See the caveats in the documentation: https://pandas.pydata.org/pandas-docs/stable/user_guide/indexing.html#returning-a-view-versus-a-copy\n",
      "  self._update_inplace(new_data)\n"
     ]
    }
   ],
   "source": [
    "df_light = df_geo[['SEVERITYCODE','LIGHTCOND']]\n",
    "# Replace value of light conditions to visibility light condition\n",
    "df_light['LIGHTCOND'].replace(to_replace=['Daylight', 'Dark - Street Lights On', 'Dusk', 'Dawn', 'Dark - No Street Lights', 'Dark - Street Lights Off', 'Dark - Unknown Lighting', 'Other', 'Unknown'], value=['Good','Medium','Medium','Medium','Bad','Bad','Bad','Draft','Draft'],inplace=True)\n",
    "print(df_light.groupby([\"LIGHTCOND\"])['SEVERITYCODE'].value_counts())"
   ]
  },
  {
   "cell_type": "code",
   "execution_count": 20,
   "metadata": {},
   "outputs": [
    {
     "data": {
      "text/html": [
       "<div>\n",
       "<style scoped>\n",
       "    .dataframe tbody tr th:only-of-type {\n",
       "        vertical-align: middle;\n",
       "    }\n",
       "\n",
       "    .dataframe tbody tr th {\n",
       "        vertical-align: top;\n",
       "    }\n",
       "\n",
       "    .dataframe thead th {\n",
       "        text-align: right;\n",
       "    }\n",
       "</style>\n",
       "<table border=\"1\" class=\"dataframe\">\n",
       "  <thead>\n",
       "    <tr style=\"text-align: right;\">\n",
       "      <th></th>\n",
       "      <th>Bad</th>\n",
       "      <th>Good</th>\n",
       "      <th>Medium</th>\n",
       "    </tr>\n",
       "    <tr>\n",
       "      <th>Severity_Code</th>\n",
       "      <th></th>\n",
       "      <th></th>\n",
       "      <th></th>\n",
       "    </tr>\n",
       "  </thead>\n",
       "  <tbody>\n",
       "    <tr>\n",
       "      <th>Property Damage</th>\n",
       "      <td>2093</td>\n",
       "      <td>77593</td>\n",
       "      <td>39668</td>\n",
       "    </tr>\n",
       "    <tr>\n",
       "      <th>Injury</th>\n",
       "      <td>654</td>\n",
       "      <td>38544</td>\n",
       "      <td>17243</td>\n",
       "    </tr>\n",
       "  </tbody>\n",
       "</table>\n",
       "</div>"
      ],
      "text/plain": [
       "                  Bad   Good  Medium\n",
       "Severity_Code                       \n",
       "Property Damage  2093  77593   39668\n",
       "Injury            654  38544   17243"
      ]
     },
     "execution_count": 20,
     "metadata": {},
     "output_type": "execute_result"
    }
   ],
   "source": [
    "# create a dataframe with the result of Light condition and SEVERITYCODE \n",
    "data_light = [['Property Damage', 2093, 13051, 77593, 39668], ['Injury', 654, 657, 38544, 17243]] \n",
    "  \n",
    "# Create the pandas DataFrame \n",
    "df_lig = pd.DataFrame(data_light, columns = ['Severity_Code','Bad','Draft','Good','Medium']) \n",
    "df_lig.set_index('Severity_Code', inplace=True)\n",
    "df_lig.drop(['Draft'], axis=1,inplace=True)\n",
    "# print dataframe. \n",
    "df_lig "
   ]
  },
  {
   "cell_type": "code",
   "execution_count": 21,
   "metadata": {},
   "outputs": [
    {
     "data": {
      "text/html": [
       "<div>\n",
       "<style scoped>\n",
       "    .dataframe tbody tr th:only-of-type {\n",
       "        vertical-align: middle;\n",
       "    }\n",
       "\n",
       "    .dataframe tbody tr th {\n",
       "        vertical-align: top;\n",
       "    }\n",
       "\n",
       "    .dataframe thead th {\n",
       "        text-align: right;\n",
       "    }\n",
       "</style>\n",
       "<table border=\"1\" class=\"dataframe\">\n",
       "  <thead>\n",
       "    <tr style=\"text-align: right;\">\n",
       "      <th></th>\n",
       "      <th>Bad</th>\n",
       "      <th>Good</th>\n",
       "      <th>Medium</th>\n",
       "    </tr>\n",
       "    <tr>\n",
       "      <th>Severity_Code</th>\n",
       "      <th></th>\n",
       "      <th></th>\n",
       "      <th></th>\n",
       "    </tr>\n",
       "  </thead>\n",
       "  <tbody>\n",
       "    <tr>\n",
       "      <th>Property Damage</th>\n",
       "      <td>0.017536</td>\n",
       "      <td>0.650108</td>\n",
       "      <td>0.332356</td>\n",
       "    </tr>\n",
       "    <tr>\n",
       "      <th>Injury</th>\n",
       "      <td>0.011587</td>\n",
       "      <td>0.682908</td>\n",
       "      <td>0.305505</td>\n",
       "    </tr>\n",
       "  </tbody>\n",
       "</table>\n",
       "</div>"
      ],
      "text/plain": [
       "                      Bad      Good    Medium\n",
       "Severity_Code                                \n",
       "Property Damage  0.017536  0.650108  0.332356\n",
       "Injury           0.011587  0.682908  0.305505"
      ]
     },
     "execution_count": 21,
     "metadata": {},
     "output_type": "execute_result"
    }
   ],
   "source": [
    "df_lig['total'] = df_lig.sum(axis=1)\n",
    "df_lig = df_lig.div(df_lig.total, axis='index')\n",
    "df_lig.drop(['total'], axis=1,inplace=True)\n",
    "df_lig"
   ]
  },
  {
   "cell_type": "code",
   "execution_count": 24,
   "metadata": {},
   "outputs": [
    {
     "data": {
      "image/png": "[encoded data removed]",
      "text/plain": [
       "<Figure size 1440x576 with 1 Axes>"
      ]
     },
     "metadata": {
      "needs_background": "light"
     },
     "output_type": "display_data"
    }
   ],
   "source": [
    "ax0 = df_lig.plot(kind='bar',\n",
    "                    figsize=(20, 8),\n",
    "                    width=0.8, \n",
    "                    fontsize=14\n",
    "                   )\n",
    "ax0.legend(fontsize=14, facecolor ='white')\n",
    "ax0.set_title('Seattle Traffic Accident Severity from 2004 to Present with light conditions', fontsize=16)\n",
    "ax0.set_facecolor('white')\n",
    "ax0.set_xlabel('Severity Code', fontsize=14)\n",
    "ax0.set_ylabel('Percentage of collisions', fontsize=14)\n",
    "ax0.set_ylim(0, 1)\n",
    "\n",
    "# annotate value labels\n",
    "for p in ax0.patches:\n",
    "    ax0.annotate(\"{:.2%}\".format(p.get_height()),\n",
    "                xy=(p.get_x()+0.01, p.get_height()+0.01), fontsize=14)"
   ]
  },
  {
   "cell_type": "code",
   "execution_count": 45,
   "metadata": {},
   "outputs": [
    {
     "data": {
      "text/plain": [
       "LIGHTCOND                 SEVERITYCODE\n",
       "Dark - No Street Lights   1               0.782694\n",
       "                          2               0.217306\n",
       "Dark - Street Lights Off  1               0.736447\n",
       "                          2               0.263553\n",
       "Dark - Street Lights On   1               0.701589\n",
       "                          2               0.298411\n",
       "Dark - Unknown Lighting   1               0.636364\n",
       "                          2               0.363636\n",
       "Dawn                      1               0.670663\n",
       "                          2               0.329337\n",
       "Daylight                  1               0.668116\n",
       "                          2               0.331884\n",
       "Dusk                      1               0.670620\n",
       "                          2               0.329380\n",
       "Other                     1               0.778723\n",
       "                          2               0.221277\n",
       "Unknown                   1               0.955095\n",
       "                          2               0.044905\n",
       "Name: SEVERITYCODE, dtype: float64"
      ]
     },
     "execution_count": 45,
     "metadata": {},
     "output_type": "execute_result"
    }
   ],
   "source": [
    "df.groupby([\"LIGHTCOND\"])['SEVERITYCODE'].value_counts(normalize=True)"
   ]
  },
  {
   "cell_type": "markdown",
   "metadata": {},
   "source": [
    "PEDROWNOTGRNT - Whether or not the pedestrian right of way was not granted. (Y/N)"
   ]
  },
  {
   "cell_type": "code",
   "execution_count": 46,
   "metadata": {},
   "outputs": [
    {
     "data": {
      "text/plain": [
       "Y    4667\n",
       "Name: PEDROWNOTGRNT, dtype: int64"
      ]
     },
     "execution_count": 46,
     "metadata": {},
     "output_type": "execute_result"
    }
   ],
   "source": [
    "df['PEDROWNOTGRNT'].value_counts()"
   ]
  },
  {
   "cell_type": "code",
   "execution_count": 47,
   "metadata": {},
   "outputs": [
    {
     "data": {
      "text/plain": [
       "PEDROWNOTGRNT  SEVERITYCODE\n",
       "Y              2               0.901436\n",
       "               1               0.098564\n",
       "Name: SEVERITYCODE, dtype: float64"
      ]
     },
     "execution_count": 47,
     "metadata": {},
     "output_type": "execute_result"
    }
   ],
   "source": [
    "df.groupby([\"PEDROWNOTGRNT\"])['SEVERITYCODE'].value_counts(normalize=True)"
   ]
  },
  {
   "cell_type": "markdown",
   "metadata": {},
   "source": [
    "SPEEDING - Whether or not speeding was a factor in the collision. (Y/N) "
   ]
  },
  {
   "cell_type": "code",
   "execution_count": 48,
   "metadata": {},
   "outputs": [
    {
     "data": {
      "text/plain": [
       "SPEEDING  SEVERITYCODE\n",
       "Y         1               0.621665\n",
       "          2               0.378335\n",
       "Name: SEVERITYCODE, dtype: float64"
      ]
     },
     "execution_count": 48,
     "metadata": {},
     "output_type": "execute_result"
    }
   ],
   "source": [
    "df.groupby([\"SPEEDING\"])['SEVERITYCODE'].value_counts(normalize=True)"
   ]
  },
  {
   "cell_type": "markdown",
   "metadata": {},
   "source": [
    "ST_COLCODE - A code provided by the state that describes the collision. For more information about these codes, please see the State Collision Code Dictionary. "
   ]
  },
  {
   "cell_type": "code",
   "execution_count": 49,
   "metadata": {},
   "outputs": [
    {
     "data": {
      "text/plain": [
       "ST_COLCODE  SEVERITYCODE\n",
       "0           2               0.909808\n",
       "            1               0.090192\n",
       "1           2               0.904145\n",
       "            1               0.095855\n",
       "2           2               0.930926\n",
       "                              ...   \n",
       "84          2               0.333333\n",
       "85          1               1.000000\n",
       "87          2               1.000000\n",
       "88          1               0.625000\n",
       "            2               0.375000\n",
       "Name: SEVERITYCODE, Length: 217, dtype: float64"
      ]
     },
     "execution_count": 49,
     "metadata": {},
     "output_type": "execute_result"
    }
   ],
   "source": [
    "df.groupby([\"ST_COLCODE\"])['SEVERITYCODE'].value_counts(normalize=True)"
   ]
  },
  {
   "cell_type": "markdown",
   "metadata": {},
   "source": [
    "SEGLANEKEY - A key for the lane segment in which the collision occurred. "
   ]
  },
  {
   "cell_type": "code",
   "execution_count": 50,
   "metadata": {},
   "outputs": [
    {
     "data": {
      "text/plain": [
       "SEGLANEKEY  SEVERITYCODE\n",
       "0           1               0.709557\n",
       "            2               0.290443\n",
       "1189        2               1.000000\n",
       "1200        2               1.000000\n",
       "1248        2               1.000000\n",
       "                              ...   \n",
       "54728       2               1.000000\n",
       "59260       2               1.000000\n",
       "521117      2               1.000000\n",
       "525169      2               1.000000\n",
       "525241      2               1.000000\n",
       "Name: SEVERITYCODE, Length: 2052, dtype: float64"
      ]
     },
     "execution_count": 50,
     "metadata": {},
     "output_type": "execute_result"
    }
   ],
   "source": [
    "df.groupby([\"SEGLANEKEY\"])['SEVERITYCODE'].value_counts(normalize=True)"
   ]
  },
  {
   "cell_type": "markdown",
   "metadata": {},
   "source": [
    "HITPARKEDCAR - Whether or not the collision involved hitting a parked car. (Y/N) "
   ]
  },
  {
   "cell_type": "code",
   "execution_count": 51,
   "metadata": {},
   "outputs": [
    {
     "data": {
      "text/plain": [
       "HITPARKEDCAR  SEVERITYCODE\n",
       "N             1               0.691983\n",
       "              2               0.308017\n",
       "Y             1               0.937916\n",
       "              2               0.062084\n",
       "Name: SEVERITYCODE, dtype: float64"
      ]
     },
     "execution_count": 51,
     "metadata": {},
     "output_type": "execute_result"
    }
   ],
   "source": [
    "df.groupby([\"HITPARKEDCAR\"])['SEVERITYCODE'].value_counts(normalize=True)"
   ]
  },
  {
   "cell_type": "markdown",
   "metadata": {},
   "source": [
    "ADDRTYPE - Type of address"
   ]
  },
  {
   "cell_type": "code",
   "execution_count": 52,
   "metadata": {},
   "outputs": [
    {
     "data": {
      "text/plain": [
       "ADDRTYPE      SEVERITYCODE\n",
       "Alley         1               0.890812\n",
       "              2               0.109188\n",
       "Block         1               0.762885\n",
       "              2               0.237115\n",
       "Intersection  1               0.572476\n",
       "              2               0.427524\n",
       "Name: SEVERITYCODE, dtype: float64"
      ]
     },
     "execution_count": 52,
     "metadata": {},
     "output_type": "execute_result"
    }
   ],
   "source": [
    "df.groupby([\"ADDRTYPE\"])['SEVERITYCODE'].value_counts(normalize=True)"
   ]
  },
  {
   "cell_type": "markdown",
   "metadata": {},
   "source": [
    "LOCATION - Description of the general location of the collision "
   ]
  },
  {
   "cell_type": "code",
   "execution_count": 53,
   "metadata": {},
   "outputs": [
    {
     "data": {
      "text/plain": [
       "LOCATION                                      SEVERITYCODE\n",
       "10TH AVE AND E ALDER ST                       1               1.000000\n",
       "10TH AVE AND E JEFFERSON ST                   1               0.900000\n",
       "                                              2               0.100000\n",
       "10TH AVE AND E MADISON ST                     1               0.900000\n",
       "                                              2               0.100000\n",
       "                                                                ...   \n",
       "YORK RD S BETWEEN 36TH AVE S AND 37TH AVE S   2               0.250000\n",
       "YORK RD S BETWEEN S HORTON ST AND 36TH AVE S  1               0.500000\n",
       "                                              2               0.500000\n",
       "YUKON AVE S AND S HENDERSON ST                2               0.666667\n",
       "                                              1               0.333333\n",
       "Name: SEVERITYCODE, Length: 35081, dtype: float64"
      ]
     },
     "execution_count": 53,
     "metadata": {},
     "output_type": "execute_result"
    }
   ],
   "source": [
    "df.groupby([\"LOCATION\"])['SEVERITYCODE'].value_counts(normalize=True)"
   ]
  },
  {
   "cell_type": "markdown",
   "metadata": {},
   "source": [
    "SDOT_COLCODE"
   ]
  },
  {
   "cell_type": "code",
   "execution_count": 54,
   "metadata": {},
   "outputs": [
    {
     "data": {
      "text/plain": [
       "SDOT_COLCODE  SEVERITYCODE\n",
       "0             1               0.927659\n",
       "              2               0.072341\n",
       "11            1               0.714373\n",
       "              2               0.285627\n",
       "12            1               0.981250\n",
       "                                ...   \n",
       "66            1               0.043478\n",
       "68            2               0.750000\n",
       "              1               0.250000\n",
       "69            2               0.985507\n",
       "              1               0.014493\n",
       "Name: SEVERITYCODE, Length: 73, dtype: float64"
      ]
     },
     "execution_count": 54,
     "metadata": {},
     "output_type": "execute_result"
    }
   ],
   "source": [
    "df.groupby([\"SDOT_COLCODE\"])['SEVERITYCODE'].value_counts(normalize=True)"
   ]
  },
  {
   "cell_type": "markdown",
   "metadata": {},
   "source": [
    "Replace values for the columns with type string to Float/Int"
   ]
  },
  {
   "cell_type": "code",
   "execution_count": 55,
   "metadata": {},
   "outputs": [],
   "source": [
    "df['ADDRTYPE'].replace(to_replace=['Alley','Block','Intersection'], value=[0,1,2],inplace=True)"
   ]
  },
  {
   "cell_type": "code",
   "execution_count": 56,
   "metadata": {},
   "outputs": [],
   "source": [
    "df['COLLISIONTYPE'].replace(to_replace=['Rear Ended', 'Angles', 'Parked Car', 'Other', 'Sideswipe', 'Left Turn', 'Pedestrian', 'Cycles', 'Right Turn', 'Head On'], value=[0,1,2,3,4,5,6,7,8,9],inplace=True)"
   ]
  },
  {
   "cell_type": "code",
   "execution_count": 57,
   "metadata": {},
   "outputs": [],
   "source": [
    "df['JUNCTIONTYPE'].replace(to_replace=['Mid-Block (not related to intersection)', 'At Intersection (intersection related)', 'Mid-Block (but intersection related)', 'Driveway Junction', 'At Intersection (but not related to intersection)', 'Ramp Junction', 'Unknown'], value=[0,1,2,3,4,5,6],inplace=True)"
   ]
  },
  {
   "cell_type": "code",
   "execution_count": 58,
   "metadata": {},
   "outputs": [],
   "source": [
    "\n",
    "df['WEATHER'].replace(to_replace=['Clear', 'Raining', 'Overcast', 'Unknown', 'Snowing', 'Other', 'Fog/Smog/Smoke', 'Sleet/Hail/Freezing Rain', 'Blowing Sand/Dirt', 'Severe Crosswind','Partly Cloudy'], value=[0,1,2,3,4,5,6,7,8,9,10],inplace=True)"
   ]
  },
  {
   "cell_type": "code",
   "execution_count": 59,
   "metadata": {},
   "outputs": [],
   "source": [
    "df['ROADCOND'].replace(to_replace=['Dry', 'Ice', 'Oil', 'Other', 'Sand/Mud/Dirt', 'Snow/Slush', 'Standing Water', 'Unknown', 'Wet'], value=[0,1,2,3,4,5,6,7,8],inplace=True)"
   ]
  },
  {
   "cell_type": "code",
   "execution_count": 60,
   "metadata": {},
   "outputs": [],
   "source": [
    "\n",
    "df['LIGHTCOND'].replace(to_replace=['Daylight', 'Dark - Street Lights On', 'Dusk', 'Dawn', 'Dark - No Street Lights', 'Dark - Street Lights Off', 'Dark - Unknown Lighting', 'Other', 'Unknown'], value=[0,1,2,3,4,5,6,7,8],inplace=True)"
   ]
  },
  {
   "cell_type": "code",
   "execution_count": 61,
   "metadata": {},
   "outputs": [],
   "source": [
    "df['PEDROWNOTGRNT'].replace(to_replace='Y', value=1,inplace=True)\n",
    "df['PEDROWNOTGRNT'].fillna(0, inplace=True)"
   ]
  },
  {
   "cell_type": "code",
   "execution_count": 62,
   "metadata": {},
   "outputs": [],
   "source": [
    "df['SPEEDING'].replace(to_replace='Y', value=1,inplace=True)\n",
    "df['SPEEDING'].fillna(0, inplace=True)"
   ]
  },
  {
   "cell_type": "code",
   "execution_count": 63,
   "metadata": {},
   "outputs": [],
   "source": [
    "df['HITPARKEDCAR'].replace(to_replace=['Y','N'], value=[1,0],inplace=True)"
   ]
  },
  {
   "cell_type": "markdown",
   "metadata": {},
   "source": [
    "Check the type of our data"
   ]
  },
  {
   "cell_type": "code",
   "execution_count": 64,
   "metadata": {},
   "outputs": [
    {
     "data": {
      "text/plain": [
       "SEVERITYCODE                    int64\n",
       "X                             float64\n",
       "Y                             float64\n",
       "OBJECTID                        int64\n",
       "COLDETKEY                       int64\n",
       "REPORTNO                       object\n",
       "STATUS                         object\n",
       "ADDRTYPE                      float64\n",
       "INTKEY                        float64\n",
       "LOCATION                       object\n",
       "EXCEPTRSNCODE                  object\n",
       "EXCEPTRSNDESC                  object\n",
       "SEVERITYCODE.1                  int64\n",
       "SEVERITYDESC                   object\n",
       "COLLISIONTYPE                 float64\n",
       "PERSONCOUNT                     int64\n",
       "PEDCOUNT                        int64\n",
       "PEDCYLCOUNT                     int64\n",
       "VEHCOUNT                        int64\n",
       "INCDATE           datetime64[ns, UTC]\n",
       "INCDTTM                        object\n",
       "JUNCTIONTYPE                  float64\n",
       "SDOT_COLCODE                    int64\n",
       "SDOT_COLDESC                   object\n",
       "INATTENTIONIND                 object\n",
       "UNDERINFL                      object\n",
       "WEATHER                       float64\n",
       "ROADCOND                      float64\n",
       "LIGHTCOND                     float64\n",
       "PEDROWNOTGRNT                 float64\n",
       "SDOTCOLNUM                    float64\n",
       "SPEEDING                      float64\n",
       "ST_COLCODE                     object\n",
       "ST_COLDESC                     object\n",
       "SEGLANEKEY                      int64\n",
       "CROSSWALKKEY                    int64\n",
       "HITPARKEDCAR                    int64\n",
       "DAYWEEK                         int64\n",
       "dtype: object"
      ]
     },
     "execution_count": 64,
     "metadata": {},
     "output_type": "execute_result"
    }
   ],
   "source": [
    "df.dtypes"
   ]
  },
  {
   "cell_type": "markdown",
   "metadata": {},
   "source": [
    "Create de data Features to use in the model Machine Learning"
   ]
  },
  {
   "cell_type": "code",
   "execution_count": 65,
   "metadata": {},
   "outputs": [
    {
     "data": {
      "text/html": [
       "<div>\n",
       "<style scoped>\n",
       "    .dataframe tbody tr th:only-of-type {\n",
       "        vertical-align: middle;\n",
       "    }\n",
       "\n",
       "    .dataframe tbody tr th {\n",
       "        vertical-align: top;\n",
       "    }\n",
       "\n",
       "    .dataframe thead th {\n",
       "        text-align: right;\n",
       "    }\n",
       "</style>\n",
       "<table border=\"1\" class=\"dataframe\">\n",
       "  <thead>\n",
       "    <tr style=\"text-align: right;\">\n",
       "      <th></th>\n",
       "      <th>SEVERITYCODE</th>\n",
       "      <th>ADDRTYPE</th>\n",
       "      <th>JUNCTIONTYPE</th>\n",
       "      <th>COLLISIONTYPE</th>\n",
       "      <th>VEHCOUNT</th>\n",
       "      <th>PEDCYLCOUNT</th>\n",
       "      <th>PERSONCOUNT</th>\n",
       "      <th>PEDCOUNT</th>\n",
       "      <th>SDOT_COLCODE</th>\n",
       "      <th>ROADCOND</th>\n",
       "      <th>LIGHTCOND</th>\n",
       "      <th>WEATHER</th>\n",
       "      <th>PEDROWNOTGRNT</th>\n",
       "      <th>SPEEDING</th>\n",
       "      <th>HITPARKEDCAR</th>\n",
       "    </tr>\n",
       "    <tr>\n",
       "      <th>INCKEY</th>\n",
       "      <th></th>\n",
       "      <th></th>\n",
       "      <th></th>\n",
       "      <th></th>\n",
       "      <th></th>\n",
       "      <th></th>\n",
       "      <th></th>\n",
       "      <th></th>\n",
       "      <th></th>\n",
       "      <th></th>\n",
       "      <th></th>\n",
       "      <th></th>\n",
       "      <th></th>\n",
       "      <th></th>\n",
       "      <th></th>\n",
       "    </tr>\n",
       "  </thead>\n",
       "  <tbody>\n",
       "    <tr>\n",
       "      <th>1307</th>\n",
       "      <td>2</td>\n",
       "      <td>2.0</td>\n",
       "      <td>1.0</td>\n",
       "      <td>1.0</td>\n",
       "      <td>2</td>\n",
       "      <td>0</td>\n",
       "      <td>2</td>\n",
       "      <td>0</td>\n",
       "      <td>11</td>\n",
       "      <td>8.0</td>\n",
       "      <td>0.0</td>\n",
       "      <td>2.0</td>\n",
       "      <td>0.0</td>\n",
       "      <td>0.0</td>\n",
       "      <td>0</td>\n",
       "    </tr>\n",
       "    <tr>\n",
       "      <th>52200</th>\n",
       "      <td>1</td>\n",
       "      <td>1.0</td>\n",
       "      <td>0.0</td>\n",
       "      <td>4.0</td>\n",
       "      <td>2</td>\n",
       "      <td>0</td>\n",
       "      <td>2</td>\n",
       "      <td>0</td>\n",
       "      <td>16</td>\n",
       "      <td>8.0</td>\n",
       "      <td>1.0</td>\n",
       "      <td>1.0</td>\n",
       "      <td>0.0</td>\n",
       "      <td>0.0</td>\n",
       "      <td>0</td>\n",
       "    </tr>\n",
       "    <tr>\n",
       "      <th>26700</th>\n",
       "      <td>1</td>\n",
       "      <td>1.0</td>\n",
       "      <td>0.0</td>\n",
       "      <td>2.0</td>\n",
       "      <td>3</td>\n",
       "      <td>0</td>\n",
       "      <td>4</td>\n",
       "      <td>0</td>\n",
       "      <td>14</td>\n",
       "      <td>0.0</td>\n",
       "      <td>0.0</td>\n",
       "      <td>2.0</td>\n",
       "      <td>0.0</td>\n",
       "      <td>0.0</td>\n",
       "      <td>0</td>\n",
       "    </tr>\n",
       "    <tr>\n",
       "      <th>1144</th>\n",
       "      <td>1</td>\n",
       "      <td>1.0</td>\n",
       "      <td>0.0</td>\n",
       "      <td>3.0</td>\n",
       "      <td>3</td>\n",
       "      <td>0</td>\n",
       "      <td>3</td>\n",
       "      <td>0</td>\n",
       "      <td>11</td>\n",
       "      <td>0.0</td>\n",
       "      <td>0.0</td>\n",
       "      <td>0.0</td>\n",
       "      <td>0.0</td>\n",
       "      <td>0.0</td>\n",
       "      <td>0</td>\n",
       "    </tr>\n",
       "    <tr>\n",
       "      <th>17700</th>\n",
       "      <td>2</td>\n",
       "      <td>2.0</td>\n",
       "      <td>1.0</td>\n",
       "      <td>1.0</td>\n",
       "      <td>2</td>\n",
       "      <td>0</td>\n",
       "      <td>2</td>\n",
       "      <td>0</td>\n",
       "      <td>11</td>\n",
       "      <td>8.0</td>\n",
       "      <td>0.0</td>\n",
       "      <td>1.0</td>\n",
       "      <td>0.0</td>\n",
       "      <td>0.0</td>\n",
       "      <td>0</td>\n",
       "    </tr>\n",
       "  </tbody>\n",
       "</table>\n",
       "</div>"
      ],
      "text/plain": [
       "        SEVERITYCODE  ADDRTYPE  JUNCTIONTYPE  COLLISIONTYPE  VEHCOUNT  \\\n",
       "INCKEY                                                                  \n",
       "1307               2       2.0           1.0            1.0         2   \n",
       "52200              1       1.0           0.0            4.0         2   \n",
       "26700              1       1.0           0.0            2.0         3   \n",
       "1144               1       1.0           0.0            3.0         3   \n",
       "17700              2       2.0           1.0            1.0         2   \n",
       "\n",
       "        PEDCYLCOUNT  PERSONCOUNT  PEDCOUNT  SDOT_COLCODE  ROADCOND  LIGHTCOND  \\\n",
       "INCKEY                                                                          \n",
       "1307              0            2         0            11       8.0        0.0   \n",
       "52200             0            2         0            16       8.0        1.0   \n",
       "26700             0            4         0            14       0.0        0.0   \n",
       "1144              0            3         0            11       0.0        0.0   \n",
       "17700             0            2         0            11       8.0        0.0   \n",
       "\n",
       "        WEATHER  PEDROWNOTGRNT  SPEEDING  HITPARKEDCAR  \n",
       "INCKEY                                                  \n",
       "1307        2.0            0.0       0.0             0  \n",
       "52200       1.0            0.0       0.0             0  \n",
       "26700       2.0            0.0       0.0             0  \n",
       "1144        0.0            0.0       0.0             0  \n",
       "17700       1.0            0.0       0.0             0  "
      ]
     },
     "execution_count": 65,
     "metadata": {},
     "output_type": "execute_result"
    }
   ],
   "source": [
    "features = df[['SEVERITYCODE','ADDRTYPE','JUNCTIONTYPE','COLLISIONTYPE','VEHCOUNT','PEDCYLCOUNT','PERSONCOUNT','PEDCOUNT','SDOT_COLCODE','ROADCOND','LIGHTCOND','WEATHER','PEDROWNOTGRNT','SPEEDING','HITPARKEDCAR']]\n",
    "features.head()"
   ]
  },
  {
   "cell_type": "markdown",
   "metadata": {},
   "source": [
    "Check NaN cells"
   ]
  },
  {
   "cell_type": "code",
   "execution_count": 66,
   "metadata": {},
   "outputs": [
    {
     "data": {
      "text/plain": [
       "SEVERITYCODE        0\n",
       "ADDRTYPE         1926\n",
       "JUNCTIONTYPE     6329\n",
       "COLLISIONTYPE    4904\n",
       "VEHCOUNT            0\n",
       "PEDCYLCOUNT         0\n",
       "PERSONCOUNT         0\n",
       "PEDCOUNT            0\n",
       "SDOT_COLCODE        0\n",
       "ROADCOND         5012\n",
       "LIGHTCOND        5170\n",
       "WEATHER          5081\n",
       "PEDROWNOTGRNT       0\n",
       "SPEEDING            0\n",
       "HITPARKEDCAR        0\n",
       "dtype: int64"
      ]
     },
     "execution_count": 66,
     "metadata": {},
     "output_type": "execute_result"
    }
   ],
   "source": [
    "features.isna().sum()"
   ]
  },
  {
   "cell_type": "markdown",
   "metadata": {},
   "source": [
    "Drop NaN's"
   ]
  },
  {
   "cell_type": "code",
   "execution_count": 67,
   "metadata": {},
   "outputs": [
    {
     "name": "stderr",
     "output_type": "stream",
     "text": [
      "/home/jupyterlab/conda/envs/python/lib/python3.6/site-packages/ipykernel_launcher.py:1: SettingWithCopyWarning: \n",
      "A value is trying to be set on a copy of a slice from a DataFrame\n",
      "\n",
      "See the caveats in the documentation: https://pandas.pydata.org/pandas-docs/stable/user_guide/indexing.html#returning-a-view-versus-a-copy\n",
      "  \"\"\"Entry point for launching an IPython kernel.\n"
     ]
    }
   ],
   "source": [
    "features.dropna(inplace=True)"
   ]
  },
  {
   "cell_type": "code",
   "execution_count": 68,
   "metadata": {},
   "outputs": [
    {
     "data": {
      "text/plain": [
       "SEVERITYCODE     0\n",
       "ADDRTYPE         0\n",
       "JUNCTIONTYPE     0\n",
       "COLLISIONTYPE    0\n",
       "VEHCOUNT         0\n",
       "PEDCYLCOUNT      0\n",
       "PERSONCOUNT      0\n",
       "PEDCOUNT         0\n",
       "SDOT_COLCODE     0\n",
       "ROADCOND         0\n",
       "LIGHTCOND        0\n",
       "WEATHER          0\n",
       "PEDROWNOTGRNT    0\n",
       "SPEEDING         0\n",
       "HITPARKEDCAR     0\n",
       "dtype: int64"
      ]
     },
     "execution_count": 68,
     "metadata": {},
     "output_type": "execute_result"
    }
   ],
   "source": [
    "features.isna().sum()"
   ]
  },
  {
   "cell_type": "code",
   "execution_count": 69,
   "metadata": {},
   "outputs": [
    {
     "name": "stdout",
     "output_type": "stream",
     "text": [
      "Rows: 182895\n",
      "Columns: 15\n"
     ]
    }
   ],
   "source": [
    "print(\"Rows:\", features.shape[0])\n",
    "print(\"Columns:\", features.shape[1])"
   ]
  },
  {
   "cell_type": "markdown",
   "metadata": {},
   "source": [
    "Check the type of our data features"
   ]
  },
  {
   "cell_type": "code",
   "execution_count": 70,
   "metadata": {},
   "outputs": [
    {
     "data": {
      "text/plain": [
       "SEVERITYCODE       int64\n",
       "ADDRTYPE         float64\n",
       "JUNCTIONTYPE     float64\n",
       "COLLISIONTYPE    float64\n",
       "VEHCOUNT           int64\n",
       "PEDCYLCOUNT        int64\n",
       "PERSONCOUNT        int64\n",
       "PEDCOUNT           int64\n",
       "SDOT_COLCODE       int64\n",
       "ROADCOND         float64\n",
       "LIGHTCOND        float64\n",
       "WEATHER          float64\n",
       "PEDROWNOTGRNT    float64\n",
       "SPEEDING         float64\n",
       "HITPARKEDCAR       int64\n",
       "dtype: object"
      ]
     },
     "execution_count": 70,
     "metadata": {},
     "output_type": "execute_result"
    }
   ],
   "source": [
    "features.dtypes"
   ]
  },
  {
   "cell_type": "markdown",
   "metadata": {},
   "source": [
    "Lets prepare the data for the model X and y"
   ]
  },
  {
   "cell_type": "code",
   "execution_count": 71,
   "metadata": {},
   "outputs": [],
   "source": [
    "X=features[['ADDRTYPE','JUNCTIONTYPE','COLLISIONTYPE','VEHCOUNT','PEDCYLCOUNT','PERSONCOUNT','PEDCOUNT','SDOT_COLCODE','ROADCOND','LIGHTCOND','WEATHER','PEDROWNOTGRNT','SPEEDING','HITPARKEDCAR']]\n",
    "y=features['SEVERITYCODE']"
   ]
  },
  {
   "cell_type": "code",
   "execution_count": 72,
   "metadata": {},
   "outputs": [
    {
     "data": {
      "text/plain": [
       "(182895, 14)"
      ]
     },
     "execution_count": 72,
     "metadata": {},
     "output_type": "execute_result"
    }
   ],
   "source": [
    "X.shape"
   ]
  },
  {
   "cell_type": "code",
   "execution_count": 73,
   "metadata": {},
   "outputs": [
    {
     "data": {
      "text/plain": [
       "(182895,)"
      ]
     },
     "execution_count": 73,
     "metadata": {},
     "output_type": "execute_result"
    }
   ],
   "source": [
    "y.shape"
   ]
  },
  {
   "cell_type": "markdown",
   "metadata": {},
   "source": [
    "Normalize the dataset:"
   ]
  },
  {
   "cell_type": "code",
   "execution_count": 74,
   "metadata": {},
   "outputs": [
    {
     "name": "stderr",
     "output_type": "stream",
     "text": [
      "/home/jupyterlab/conda/envs/python/lib/python3.6/site-packages/sklearn/preprocessing/data.py:625: DataConversionWarning: Data with input dtype int64, float64 were all converted to float64 by StandardScaler.\n",
      "  return self.partial_fit(X, y)\n",
      "/home/jupyterlab/conda/envs/python/lib/python3.6/site-packages/ipykernel_launcher.py:1: DataConversionWarning: Data with input dtype int64, float64 were all converted to float64 by StandardScaler.\n",
      "  \"\"\"Entry point for launching an IPython kernel.\n"
     ]
    }
   ],
   "source": [
    "X = preprocessing.StandardScaler().fit(X).transform(X)"
   ]
  },
  {
   "cell_type": "markdown",
   "metadata": {},
   "source": [
    "Split our dataset into train and test set:"
   ]
  },
  {
   "cell_type": "code",
   "execution_count": 75,
   "metadata": {},
   "outputs": [],
   "source": [
    "X_train, X_test, y_train, y_test = train_test_split( X, y, test_size=0.2, random_state=4)"
   ]
  },
  {
   "cell_type": "code",
   "execution_count": 76,
   "metadata": {},
   "outputs": [
    {
     "name": "stdout",
     "output_type": "stream",
     "text": [
      "Train set: (146316, 14) (146316,)\n",
      "Test set: (36579, 14) (36579,)\n"
     ]
    }
   ],
   "source": [
    "print ('Train set:', X_train.shape,  y_train.shape)\n",
    "print ('Test set:', X_test.shape,  y_test.shape)"
   ]
  },
  {
   "cell_type": "markdown",
   "metadata": {},
   "source": [
    "<h1 align=center><font size=\"5\">Studying different models of Machine Learning</font></h1>"
   ]
  },
  {
   "cell_type": "markdown",
   "metadata": {},
   "source": [
    "<h2><font size=\"5\"> K-Nearest Neighbors algorithm</font></h2>\n",
    "Calculate the accuracy of KNN for different Ks"
   ]
  },
  {
   "cell_type": "code",
   "execution_count": 72,
   "metadata": {},
   "outputs": [
    {
     "data": {
      "text/plain": [
       "array([0.65359906, 0.71292272, 0.69785943, 0.72973564, 0.71819897,\n",
       "       0.73047377, 0.71983925, 0.73137593, 0.72765795, 0.73741764,\n",
       "       0.73091118, 0.7363788 , 0.73238744, 0.73908527, 0.73337161,\n",
       "       0.74124498, 0.73930397, 0.73968671, 0.73979606, 0.74283059,\n",
       "       0.74201044, 0.74162771, 0.74129965, 0.74324066, 0.74110829,\n",
       "       0.74236584, 0.74201044, 0.74247519, 0.74206512])"
      ]
     },
     "execution_count": 72,
     "metadata": {},
     "output_type": "execute_result"
    }
   ],
   "source": [
    "Ks = 30\n",
    "mean_acc = np.zeros((Ks-1))\n",
    "std_acc = np.zeros((Ks-1))\n",
    "for n in range(1,Ks):\n",
    "    \n",
    "    #Train Model and Predict  \n",
    "    neigh = KNeighborsClassifier(n_neighbors = n).fit(X_train,y_train)\n",
    "    yhat=neigh.predict(X_test)\n",
    "    mean_acc[n-1] = metrics.accuracy_score(y_test, yhat)\n",
    "\n",
    "    \n",
    "    std_acc[n-1]=np.std(yhat==y_test)/np.sqrt(yhat.shape[0])\n",
    "\n",
    "mean_acc"
   ]
  },
  {
   "cell_type": "markdown",
   "metadata": {},
   "source": [
    "Plot"
   ]
  },
  {
   "cell_type": "code",
   "execution_count": 73,
   "metadata": {},
   "outputs": [
    {
     "data": {
      "image/png": "[encoded data removed]",
      "text/plain": [
       "<Figure size 432x288 with 1 Axes>"
      ]
     },
     "metadata": {
      "needs_background": "light"
     },
     "output_type": "display_data"
    }
   ],
   "source": [
    "plt.plot(range(1,Ks),mean_acc,'g')\n",
    "plt.fill_between(range(1,Ks),mean_acc - 1 * std_acc,mean_acc + 1 * std_acc, alpha=0.10)\n",
    "plt.legend(('Accuracy ', '+/- 3xstd'))\n",
    "plt.ylabel('Accuracy ')\n",
    "plt.xlabel('Number of Nabors (K)')\n",
    "plt.tight_layout()\n",
    "plt.show()"
   ]
  },
  {
   "cell_type": "code",
   "execution_count": 74,
   "metadata": {},
   "outputs": [
    {
     "name": "stdout",
     "output_type": "stream",
     "text": [
      "The best accuracy was with 0.7432406572076875 with k= 24\n"
     ]
    }
   ],
   "source": [
    "print( \"The best accuracy was with\", mean_acc.max(), \"with k=\", mean_acc.argmax()+1) "
   ]
  },
  {
   "cell_type": "markdown",
   "metadata": {},
   "source": [
    "Select the best k and calculate F1-score and Jaccard score."
   ]
  },
  {
   "cell_type": "code",
   "execution_count": 75,
   "metadata": {},
   "outputs": [],
   "source": [
    "k = 24\n",
    "#Train Model and Predict  \n",
    "neigh_knn = KNeighborsClassifier(n_neighbors = k).fit(X_train,y_train)\n",
    "yhat_neigh = neigh_knn.predict(X_test)"
   ]
  },
  {
   "cell_type": "code",
   "execution_count": 77,
   "metadata": {},
   "outputs": [
    {
     "name": "stdout",
     "output_type": "stream",
     "text": [
      "Avg F1-score: 0.71\n",
      "Jaccard score: 0.74\n"
     ]
    }
   ],
   "source": [
    "from sklearn.metrics import f1_score\n",
    "from sklearn.metrics import jaccard_similarity_score\n",
    "print(\"Avg F1-score: %.2f\" % f1_score(y_test, yhat_neigh, average='weighted'))\n",
    "print(\"Jaccard score: %.2f\" % jaccard_similarity_score(y_test, yhat_neigh))"
   ]
  },
  {
   "cell_type": "markdown",
   "metadata": {},
   "source": [
    "<h2 align=center><font size=\"5\"> SVM (Support Vector Machines)</font></h2>\n",
    "The SVM algorithm offers a choice of kernel functions for performing its processing. Basically, mapping data into a higher dimensional space is called kernelling. The mathematical function used for the transformation is known as the kernel function, and can be of different types, such as:\n",
    "\n",
    "```\n",
    "1.Linear\n",
    "2.Polynomial\n",
    "3.Radial basis function (RBF)\n",
    "4.Sigmoid\n",
    "```"
   ]
  },
  {
   "cell_type": "markdown",
   "metadata": {},
   "source": [
    "<h3><font size=\"5\"> SVM - Linear</font></h3>"
   ]
  },
  {
   "cell_type": "code",
   "execution_count": 75,
   "metadata": {},
   "outputs": [
    {
     "name": "stdout",
     "output_type": "stream",
     "text": [
      "Avg F1-score: 0.67\n",
      "Jaccard score: 0.74\n"
     ]
    }
   ],
   "source": [
    "svm_linear = svm.SVC(kernel='linear')\n",
    "svm_linear.fit(X_train, y_train)\n",
    "yhat_svm_linear = svm_linear.predict(X_test)\n",
    "print(\"Avg F1-score: %.2f\" % f1_score(y_test, yhat_svm_linear, average='weighted'))\n",
    "print(\"Jaccard score: %.2f\" % jaccard_similarity_score(y_test, yhat_svm_linear))"
   ]
  },
  {
   "cell_type": "markdown",
   "metadata": {},
   "source": [
    "<h3><font size=\"5\"> SVM - Polynomial</font></h3>"
   ]
  },
  {
   "cell_type": "code",
   "execution_count": null,
   "metadata": {},
   "outputs": [
    {
     "name": "stderr",
     "output_type": "stream",
     "text": [
      "/home/jupyterlab/conda/envs/python/lib/python3.6/site-packages/sklearn/svm/base.py:196: FutureWarning: The default value of gamma will change from 'auto' to 'scale' in version 0.22 to account better for unscaled features. Set gamma explicitly to 'auto' or 'scale' to avoid this warning.\n",
      "  \"avoid this warning.\", FutureWarning)\n"
     ]
    }
   ],
   "source": [
    "svm_poly = svm.SVC(kernel='poly', degree=4)\n",
    "svm_poly.fit(X_train, y_train)\n",
    "yhat_svm_poly = svm_poly.predict(X_test)"
   ]
  },
  {
   "cell_type": "code",
   "execution_count": 77,
   "metadata": {},
   "outputs": [
    {
     "name": "stdout",
     "output_type": "stream",
     "text": [
      "We don't have data because it takes a lot of computing time.\n"
     ]
    }
   ],
   "source": [
    "print(\"We don't have data because it takes a lot of computing time.\")\n",
    "#print(\"Avg F1-score: %.2f\" % f1_score(y_test, yhat_svm_poly, average='weighted'))\n",
    "#print(\"Jaccard score: %.2f\" % jaccard_similarity_score(y_test, yhat_svm_poly))"
   ]
  },
  {
   "cell_type": "markdown",
   "metadata": {},
   "source": [
    "<h3><font size=\"5\"> SVM - Radial basis function (RBF)</font></h3>"
   ]
  },
  {
   "cell_type": "code",
   "execution_count": 72,
   "metadata": {},
   "outputs": [
    {
     "name": "stderr",
     "output_type": "stream",
     "text": [
      "/home/jupyterlab/conda/envs/python/lib/python3.6/site-packages/sklearn/svm/base.py:196: FutureWarning: The default value of gamma will change from 'auto' to 'scale' in version 0.22 to account better for unscaled features. Set gamma explicitly to 'auto' or 'scale' to avoid this warning.\n",
      "  \"avoid this warning.\", FutureWarning)\n"
     ]
    },
    {
     "name": "stdout",
     "output_type": "stream",
     "text": [
      "Avg F1-score: 0.70\n",
      "Jaccard score: 0.75\n"
     ]
    }
   ],
   "source": [
    "svm_rbf = svm.SVC(kernel='rbf')\n",
    "svm_rbf.fit(X_train, y_train)\n",
    "yhat_svm_rbf = svm_rbf.predict(X_test)\n",
    "print(\"Avg F1-score: %.2f\" % f1_score(y_test, yhat_svm_rbf, average='weighted'))\n",
    "print(\"Jaccard score: %.2f\" % jaccard_similarity_score(y_test, yhat_svm_rbf))"
   ]
  },
  {
   "cell_type": "markdown",
   "metadata": {},
   "source": [
    "<h3><font size=\"5\"> SVM - Sigmoid</font></h3>"
   ]
  },
  {
   "cell_type": "code",
   "execution_count": 73,
   "metadata": {},
   "outputs": [
    {
     "name": "stderr",
     "output_type": "stream",
     "text": [
      "/home/jupyterlab/conda/envs/python/lib/python3.6/site-packages/sklearn/svm/base.py:196: FutureWarning: The default value of gamma will change from 'auto' to 'scale' in version 0.22 to account better for unscaled features. Set gamma explicitly to 'auto' or 'scale' to avoid this warning.\n",
      "  \"avoid this warning.\", FutureWarning)\n"
     ]
    },
    {
     "name": "stdout",
     "output_type": "stream",
     "text": [
      "Avg F1-score: 0.64\n",
      "Jaccard score: 0.64\n"
     ]
    }
   ],
   "source": [
    "svm_sigmoid = svm.SVC(kernel='sigmoid')\n",
    "svm_sigmoid.fit(X_train, y_train)\n",
    "yhat_svm_sigmoid = svm_sigmoid.predict(X_test)\n",
    "print(\"Avg F1-score: %.2f\" % f1_score(y_test, yhat_svm_sigmoid, average='weighted'))\n",
    "print(\"Jaccard score: %.2f\" % jaccard_similarity_score(y_test, yhat_svm_sigmoid))"
   ]
  },
  {
   "cell_type": "markdown",
   "metadata": {},
   "source": [
    "<h2 align=center><font size=\"5\">Decision Trees</font></h2>"
   ]
  },
  {
   "cell_type": "code",
   "execution_count": 75,
   "metadata": {},
   "outputs": [
    {
     "data": {
      "text/plain": [
       "array([0.66910604, 0.66933358, 0.66933358, 0.70162873, 0.69463189,\n",
       "       0.70178613, 0.70621115, 0.70764406, 0.71365624, 0.7140924 ,\n",
       "       0.71510087, 0.71580051, 0.71491989, 0.71282718, 0.71364323,\n",
       "       0.71177864, 0.71188033, 0.71214919, 0.71089732])"
      ]
     },
     "execution_count": 75,
     "metadata": {},
     "output_type": "execute_result"
    }
   ],
   "source": [
    "depths = 20\n",
    "avg_f1_tree = np.zeros((depths-1))\n",
    "jaccard_index_tree = np.zeros((depths-1))\n",
    "for n in range(1,depths):\n",
    "    #Train Model and Predict  \n",
    "    carTree = DecisionTreeClassifier(criterion=\"entropy\", max_depth = n)\n",
    "    carTree.fit(X_train, y_train)\n",
    "    yhat_tree = carTree.predict(X_test)\n",
    "    avg_f1_tree[n-1] = f1_score(y_test, yhat_tree, average='weighted')\n",
    "    jaccard_index_tree[n-1]=jaccard_similarity_score(y_test, yhat_tree)\n",
    "    \n",
    "    \n",
    "#carTree = DecisionTreeClassifier(criterion=\"entropy\", max_depth = 4)\n",
    "#carTree\n",
    "avg_f1_tree"
   ]
  },
  {
   "cell_type": "code",
   "execution_count": 76,
   "metadata": {},
   "outputs": [
    {
     "data": {
      "text/plain": [
       "array([0.7251155 , 0.73610542, 0.73610542, 0.74430684, 0.74389677,\n",
       "       0.7457831 , 0.7469313 , 0.74777878, 0.74698598, 0.74673993,\n",
       "       0.74561907, 0.74548238, 0.74594713, 0.74449821, 0.74381476,\n",
       "       0.74288526, 0.7423385 , 0.74146368, 0.74042483])"
      ]
     },
     "execution_count": 76,
     "metadata": {},
     "output_type": "execute_result"
    }
   ],
   "source": [
    "jaccard_index_tree"
   ]
  },
  {
   "cell_type": "code",
   "execution_count": 77,
   "metadata": {},
   "outputs": [
    {
     "name": "stdout",
     "output_type": "stream",
     "text": [
      "The best accuracy was with 0.7158005121105951 with depth= 12\n"
     ]
    }
   ],
   "source": [
    "#carTree.fit(X_train, y_train)\n",
    "#yhat_tree = carTree.predict(X_test)\n",
    "\n",
    "\n",
    "print( \"The best accuracy was with\", avg_f1_tree.max(), \"with depth=\", avg_f1_tree.argmax()+1)"
   ]
  },
  {
   "cell_type": "code",
   "execution_count": 79,
   "metadata": {},
   "outputs": [
    {
     "name": "stdout",
     "output_type": "stream",
     "text": [
      "Avg F1-score: 0.7158\n",
      "Jaccard index: 0.7455\n"
     ]
    }
   ],
   "source": [
    "print(\"Avg F1-score: %.4f\" % avg_f1_tree[11])\n",
    "print(\"Jaccard index: %.4f\" % jaccard_index_tree[11])"
   ]
  },
  {
   "cell_type": "markdown",
   "metadata": {},
   "source": [
    "<h2 align=center><font size=\"5\">Logistic Regression</font></h2>"
   ]
  },
  {
   "cell_type": "code",
   "execution_count": 100,
   "metadata": {},
   "outputs": [
    {
     "name": "stderr",
     "output_type": "stream",
     "text": [
      "/home/jupyterlab/conda/envs/python/lib/python3.6/site-packages/sklearn/linear_model/logistic.py:433: FutureWarning: Default solver will be changed to 'lbfgs' in 0.22. Specify a solver to silence this warning.\n",
      "  FutureWarning)\n",
      "/home/jupyterlab/conda/envs/python/lib/python3.6/site-packages/sklearn/linear_model/logistic.py:433: FutureWarning: Default solver will be changed to 'lbfgs' in 0.22. Specify a solver to silence this warning.\n",
      "  FutureWarning)\n",
      "/home/jupyterlab/conda/envs/python/lib/python3.6/site-packages/sklearn/linear_model/logistic.py:433: FutureWarning: Default solver will be changed to 'lbfgs' in 0.22. Specify a solver to silence this warning.\n",
      "  FutureWarning)\n",
      "/home/jupyterlab/conda/envs/python/lib/python3.6/site-packages/sklearn/linear_model/logistic.py:433: FutureWarning: Default solver will be changed to 'lbfgs' in 0.22. Specify a solver to silence this warning.\n",
      "  FutureWarning)\n",
      "/home/jupyterlab/conda/envs/python/lib/python3.6/site-packages/sklearn/linear_model/logistic.py:433: FutureWarning: Default solver will be changed to 'lbfgs' in 0.22. Specify a solver to silence this warning.\n",
      "  FutureWarning)\n",
      "/home/jupyterlab/conda/envs/python/lib/python3.6/site-packages/sklearn/linear_model/logistic.py:433: FutureWarning: Default solver will be changed to 'lbfgs' in 0.22. Specify a solver to silence this warning.\n",
      "  FutureWarning)\n"
     ]
    },
    {
     "data": {
      "text/plain": [
       "array([0.69150935, 0.6920324 , 0.69203288, 0.69203288, 0.69203288,\n",
       "       0.69203288])"
      ]
     },
     "execution_count": 100,
     "metadata": {},
     "output_type": "execute_result"
    }
   ],
   "source": [
    "Cs = [0.001, 0.01, 0.10, 0.50, 0.75, 1]\n",
    "avg_f1_lr = np.zeros(len(Cs))\n",
    "jaccard_index_lr = np.zeros(len(Cs))\n",
    "logloss_lr = np.zeros(len(Cs))\n",
    "i = 0\n",
    "for n in Cs:\n",
    "    \n",
    "    #Train Model and Predict  \n",
    "    LR_model = LogisticRegression(C=n).fit(X_train,y_train)\n",
    "    yhat_lr = LR_model.predict(X_test)\n",
    "    yhat_lr_prob = LR_model.predict_proba(X_test)\n",
    "    avg_f1_lr[i] = f1_score(y_test, yhat_lr, average='weighted')\n",
    "    jaccard_index_lr[i] = jaccard_similarity_score(y_test, yhat_lr)\n",
    "    logloss_lr[i] = log_loss(y_test, yhat_lr_prob)\n",
    "    i = i + 1\n",
    "avg_f1_lr"
   ]
  },
  {
   "cell_type": "code",
   "execution_count": 101,
   "metadata": {},
   "outputs": [
    {
     "data": {
      "text/plain": [
       "array([0.74001476, 0.74009678, 0.7400421 , 0.7400421 , 0.7400421 ,\n",
       "       0.7400421 ])"
      ]
     },
     "execution_count": 101,
     "metadata": {},
     "output_type": "execute_result"
    }
   ],
   "source": [
    "jaccard_index_lr"
   ]
  },
  {
   "cell_type": "code",
   "execution_count": 102,
   "metadata": {},
   "outputs": [
    {
     "data": {
      "text/plain": [
       "array([0.53259792, 0.53227213, 0.53228277, 0.53228424, 0.53228436,\n",
       "       0.53228443])"
      ]
     },
     "execution_count": 102,
     "metadata": {},
     "output_type": "execute_result"
    }
   ],
   "source": [
    "logloss_lr"
   ]
  },
  {
   "cell_type": "code",
   "execution_count": 95,
   "metadata": {},
   "outputs": [
    {
     "name": "stdout",
     "output_type": "stream",
     "text": [
      "The best accuracy was with 0.6920328844223703 with C =  0.1\n"
     ]
    }
   ],
   "source": [
    "print( \"The best accuracy was with\", avg_f1_lr.max(), \"with C = \", Cs[avg_f1_lr.argmax()])"
   ]
  },
  {
   "cell_type": "code",
   "execution_count": 103,
   "metadata": {},
   "outputs": [
    {
     "name": "stdout",
     "output_type": "stream",
     "text": [
      "Avg F1-score: 0.6920\n",
      "LR Jaccard index: 0.7400\n",
      "LR LogLoss: 0.5323\n"
     ]
    }
   ],
   "source": [
    "print(\"Avg F1-score: %.4f\" % avg_f1_lr[2])\n",
    "print(\"LR Jaccard index: %.4f\" % jaccard_index_lr[2])\n",
    "print(\"LR LogLoss: %.4f\" % logloss_lr[2])"
   ]
  },
  {
   "cell_type": "markdown",
   "metadata": {},
   "source": [
    "Report the accuracy of the built model using different evaluation metrics:"
   ]
  },
  {
   "cell_type": "markdown",
   "metadata": {},
   "source": [
    "| Algorithm          | Jaccard | F1-score | LogLoss |\n",
    "|--------------------|---------|----------|---------|\n",
    "| KNN (k=24)         | 0.74    | 0.71     | NA      |\n",
    "| Decision Tree      | 0.74    | 0.71     | NA      |\n",
    "| SVM - Linear       | 0.74    | 0.67     | NA      |\n",
    "| SVM - Polynomial   | NA      | NA       | NA      |\n",
    "| SVM - RBF          | 0.75    | 0.70     | NA      |\n",
    "| SVM - Sigmoid      | 0.64    | 0.64     | NA      |\n",
    "| LogisticRegression | 0.74    | 0.69     | 0.53    |"
   ]
  },
  {
   "cell_type": "markdown",
   "metadata": {},
   "source": [
    "<h1 align=center><font size=\"5\">High risk areas</font></h1>"
   ]
  },
  {
   "cell_type": "markdown",
   "metadata": {},
   "source": [
    "<h3><font size=\"5\">Create the Seattle Map</font></h3>"
   ]
  },
  {
   "cell_type": "code",
   "execution_count": 6,
   "metadata": {},
   "outputs": [
    {
     "name": "stdout",
     "output_type": "stream",
     "text": [
      "Collecting package metadata (current_repodata.json): done\n",
      "Solving environment: done\n",
      "\n",
      "\n",
      "==> WARNING: A newer version of conda exists. <==\n",
      "  current version: 4.8.3\n",
      "  latest version: 4.8.4\n",
      "\n",
      "Please update conda by running\n",
      "\n",
      "    $ conda update -n base -c defaults conda\n",
      "\n",
      "\n",
      "\n",
      "# All requested packages already installed.\n",
      "\n",
      "Folium installed and imported!\n"
     ]
    }
   ],
   "source": [
    "!conda install -c conda-forge folium=0.5.0 --yes\n",
    "import folium\n",
    "from folium.features import CustomIcon\n",
    "from folium import plugins\n",
    "print('Folium installed and imported!')"
   ]
  },
  {
   "cell_type": "code",
   "execution_count": 22,
   "metadata": {},
   "outputs": [
    {
     "data": {
      "text/html": [
       "<iframe src=seattle_map.html width=700 height=450></iframe>"
      ],
      "text/plain": [
       "<IPython.core.display.HTML object>"
      ]
     },
     "execution_count": 22,
     "metadata": {},
     "output_type": "execute_result"
    }
   ],
   "source": [
    "# define the world map centered around Seattle with a low zoom level\n",
    "seattle_map = folium.Map(location=[47.44, -122.302], zoom_start=10)\n",
    "\n",
    "# display world map\n",
    "#seattle_map\n",
    "\n",
    "seattle_map.save('seattle_map.html')\n",
    "# Import the Folium interactive html file\n",
    "\n",
    "from IPython.display import HTML\n",
    "HTML('<iframe src=seattle_map.html width=700 height=450></iframe>')"
   ]
  },
  {
   "cell_type": "code",
   "execution_count": 23,
   "metadata": {},
   "outputs": [
    {
     "data": {
      "text/html": [
       "<div>\n",
       "<style scoped>\n",
       "    .dataframe tbody tr th:only-of-type {\n",
       "        vertical-align: middle;\n",
       "    }\n",
       "\n",
       "    .dataframe tbody tr th {\n",
       "        vertical-align: top;\n",
       "    }\n",
       "\n",
       "    .dataframe thead th {\n",
       "        text-align: right;\n",
       "    }\n",
       "</style>\n",
       "<table border=\"1\" class=\"dataframe\">\n",
       "  <thead>\n",
       "    <tr style=\"text-align: right;\">\n",
       "      <th></th>\n",
       "      <th>SEVERITYCODE</th>\n",
       "      <th>X</th>\n",
       "      <th>Y</th>\n",
       "      <th>ADDRTYPE</th>\n",
       "      <th>JUNCTIONTYPE</th>\n",
       "      <th>COLLISIONTYPE</th>\n",
       "      <th>VEHCOUNT</th>\n",
       "      <th>PEDCYLCOUNT</th>\n",
       "      <th>PERSONCOUNT</th>\n",
       "      <th>PEDCOUNT</th>\n",
       "      <th>SDOT_COLCODE</th>\n",
       "      <th>ROADCOND</th>\n",
       "      <th>LIGHTCOND</th>\n",
       "      <th>WEATHER</th>\n",
       "      <th>PEDROWNOTGRNT</th>\n",
       "      <th>SPEEDING</th>\n",
       "      <th>HITPARKEDCAR</th>\n",
       "    </tr>\n",
       "  </thead>\n",
       "  <tbody>\n",
       "    <tr>\n",
       "      <th>0</th>\n",
       "      <td>Injury</td>\n",
       "      <td>-122.323148</td>\n",
       "      <td>47.703140</td>\n",
       "      <td>Intersection</td>\n",
       "      <td>At Intersection (intersection related)</td>\n",
       "      <td>Angles</td>\n",
       "      <td>2</td>\n",
       "      <td>0</td>\n",
       "      <td>2</td>\n",
       "      <td>0</td>\n",
       "      <td>11</td>\n",
       "      <td>Wet</td>\n",
       "      <td>Good</td>\n",
       "      <td>Good</td>\n",
       "      <td>0.0</td>\n",
       "      <td>0.0</td>\n",
       "      <td>N</td>\n",
       "    </tr>\n",
       "    <tr>\n",
       "      <th>1</th>\n",
       "      <td>Prop damage</td>\n",
       "      <td>-122.347294</td>\n",
       "      <td>47.647172</td>\n",
       "      <td>Block</td>\n",
       "      <td>Mid-Block (not related to intersection)</td>\n",
       "      <td>Sideswipe</td>\n",
       "      <td>2</td>\n",
       "      <td>0</td>\n",
       "      <td>2</td>\n",
       "      <td>0</td>\n",
       "      <td>16</td>\n",
       "      <td>Wet</td>\n",
       "      <td>Medium</td>\n",
       "      <td>Reduce Visibility</td>\n",
       "      <td>0.0</td>\n",
       "      <td>0.0</td>\n",
       "      <td>N</td>\n",
       "    </tr>\n",
       "    <tr>\n",
       "      <th>2</th>\n",
       "      <td>Prop damage</td>\n",
       "      <td>-122.334540</td>\n",
       "      <td>47.607871</td>\n",
       "      <td>Block</td>\n",
       "      <td>Mid-Block (not related to intersection)</td>\n",
       "      <td>Parked Car</td>\n",
       "      <td>3</td>\n",
       "      <td>0</td>\n",
       "      <td>4</td>\n",
       "      <td>0</td>\n",
       "      <td>14</td>\n",
       "      <td>Dry</td>\n",
       "      <td>Good</td>\n",
       "      <td>Good</td>\n",
       "      <td>0.0</td>\n",
       "      <td>0.0</td>\n",
       "      <td>N</td>\n",
       "    </tr>\n",
       "    <tr>\n",
       "      <th>3</th>\n",
       "      <td>Prop damage</td>\n",
       "      <td>-122.334803</td>\n",
       "      <td>47.604803</td>\n",
       "      <td>Block</td>\n",
       "      <td>Mid-Block (not related to intersection)</td>\n",
       "      <td>Other</td>\n",
       "      <td>3</td>\n",
       "      <td>0</td>\n",
       "      <td>3</td>\n",
       "      <td>0</td>\n",
       "      <td>11</td>\n",
       "      <td>Dry</td>\n",
       "      <td>Good</td>\n",
       "      <td>Good</td>\n",
       "      <td>0.0</td>\n",
       "      <td>0.0</td>\n",
       "      <td>N</td>\n",
       "    </tr>\n",
       "    <tr>\n",
       "      <th>4</th>\n",
       "      <td>Injury</td>\n",
       "      <td>-122.306426</td>\n",
       "      <td>47.545739</td>\n",
       "      <td>Intersection</td>\n",
       "      <td>At Intersection (intersection related)</td>\n",
       "      <td>Angles</td>\n",
       "      <td>2</td>\n",
       "      <td>0</td>\n",
       "      <td>2</td>\n",
       "      <td>0</td>\n",
       "      <td>11</td>\n",
       "      <td>Wet</td>\n",
       "      <td>Good</td>\n",
       "      <td>Reduce Visibility</td>\n",
       "      <td>0.0</td>\n",
       "      <td>0.0</td>\n",
       "      <td>N</td>\n",
       "    </tr>\n",
       "  </tbody>\n",
       "</table>\n",
       "</div>"
      ],
      "text/plain": [
       "  SEVERITYCODE           X          Y      ADDRTYPE  \\\n",
       "0       Injury -122.323148  47.703140  Intersection   \n",
       "1  Prop damage -122.347294  47.647172         Block   \n",
       "2  Prop damage -122.334540  47.607871         Block   \n",
       "3  Prop damage -122.334803  47.604803         Block   \n",
       "4       Injury -122.306426  47.545739  Intersection   \n",
       "\n",
       "                              JUNCTIONTYPE COLLISIONTYPE  VEHCOUNT  \\\n",
       "0   At Intersection (intersection related)        Angles         2   \n",
       "1  Mid-Block (not related to intersection)     Sideswipe         2   \n",
       "2  Mid-Block (not related to intersection)    Parked Car         3   \n",
       "3  Mid-Block (not related to intersection)         Other         3   \n",
       "4   At Intersection (intersection related)        Angles         2   \n",
       "\n",
       "   PEDCYLCOUNT  PERSONCOUNT  PEDCOUNT  SDOT_COLCODE ROADCOND LIGHTCOND  \\\n",
       "0            0            2         0            11      Wet      Good   \n",
       "1            0            2         0            16      Wet    Medium   \n",
       "2            0            4         0            14      Dry      Good   \n",
       "3            0            3         0            11      Dry      Good   \n",
       "4            0            2         0            11      Wet      Good   \n",
       "\n",
       "             WEATHER  PEDROWNOTGRNT  SPEEDING HITPARKEDCAR  \n",
       "0               Good            0.0       0.0            N  \n",
       "1  Reduce Visibility            0.0       0.0            N  \n",
       "2               Good            0.0       0.0            N  \n",
       "3               Good            0.0       0.0            N  \n",
       "4  Reduce Visibility            0.0       0.0            N  "
      ]
     },
     "execution_count": 23,
     "metadata": {},
     "output_type": "execute_result"
    }
   ],
   "source": [
    "df_geo['PEDROWNOTGRNT'].replace(to_replace='Y', value=1,inplace=True)\n",
    "df_geo['PEDROWNOTGRNT'].fillna(0, inplace=True)\n",
    "df_geo['SPEEDING'].replace(to_replace='Y', value=1,inplace=True)\n",
    "df_geo['SPEEDING'].fillna(0, inplace=True)\n",
    "df_geo['SEVERITYCODE'].replace(to_replace=[1,2], value=['Prop damage','Injury'],inplace=True)\n",
    "df_geo['LIGHTCOND'].replace(to_replace=['Daylight', 'Dark - Street Lights On', 'Dusk', 'Dawn', 'Dark - No Street Lights', 'Dark - Street Lights Off', 'Dark - Unknown Lighting', 'Other', 'Unknown'], value=['Good','Medium','Medium','Medium','Bad','Bad','Bad','Draft','Draft'],inplace=True)\n",
    "df_geo['WEATHER'].replace(to_replace=['Clear', 'Raining', 'Overcast', 'Unknown', 'Snowing', 'Other', 'Fog/Smog/Smoke', 'Sleet/Hail/Freezing Rain', 'Blowing Sand/Dirt', 'Severe Crosswind','Partly Cloudy'], value=['Good','Reduce Visibility','Good','Draft','Reduce Visibility','Draft','Reduce Visibility','Reduce Visibility','Reduce Visibility','Windy','Good'],inplace=True)\n",
    "df_geo['ROADCOND'].replace(to_replace=['Dry', 'Ice', 'Oil', 'Other', 'Sand/Mud/Dirt', 'Snow/Slush', 'Standing Water', 'Unknown', 'Wet'], value=['Dry','Ice', 'Oil','Draft','Sand','Snow','Water','Draft','Wet'],inplace=True)\n",
    "features_geo = df_geo[['SEVERITYCODE','X', 'Y','ADDRTYPE','JUNCTIONTYPE','COLLISIONTYPE','VEHCOUNT','PEDCYLCOUNT','PERSONCOUNT','PEDCOUNT','SDOT_COLCODE','ROADCOND','LIGHTCOND','WEATHER','PEDROWNOTGRNT','SPEEDING','HITPARKEDCAR']]\n",
    "features_geo.head()"
   ]
  },
  {
   "cell_type": "code",
   "execution_count": 24,
   "metadata": {},
   "outputs": [
    {
     "data": {
      "text/plain": [
       "SEVERITYCODE        0\n",
       "X                5334\n",
       "Y                5334\n",
       "ADDRTYPE         1926\n",
       "JUNCTIONTYPE     6329\n",
       "COLLISIONTYPE    4904\n",
       "VEHCOUNT            0\n",
       "PEDCYLCOUNT         0\n",
       "PERSONCOUNT         0\n",
       "PEDCOUNT            0\n",
       "SDOT_COLCODE        0\n",
       "ROADCOND         5012\n",
       "LIGHTCOND        5170\n",
       "WEATHER          5081\n",
       "PEDROWNOTGRNT       0\n",
       "SPEEDING            0\n",
       "HITPARKEDCAR        0\n",
       "dtype: int64"
      ]
     },
     "execution_count": 24,
     "metadata": {},
     "output_type": "execute_result"
    }
   ],
   "source": [
    "features_geo.isna().sum()"
   ]
  },
  {
   "cell_type": "code",
   "execution_count": 25,
   "metadata": {},
   "outputs": [
    {
     "name": "stderr",
     "output_type": "stream",
     "text": [
      "/home/jupyterlab/conda/envs/python/lib/python3.6/site-packages/ipykernel_launcher.py:1: SettingWithCopyWarning: \n",
      "A value is trying to be set on a copy of a slice from a DataFrame\n",
      "\n",
      "See the caveats in the documentation: https://pandas.pydata.org/pandas-docs/stable/user_guide/indexing.html#returning-a-view-versus-a-copy\n",
      "  \"\"\"Entry point for launching an IPython kernel.\n"
     ]
    }
   ],
   "source": [
    "features_geo.dropna(inplace=True)"
   ]
  },
  {
   "cell_type": "code",
   "execution_count": 26,
   "metadata": {},
   "outputs": [
    {
     "data": {
      "text/plain": [
       "SEVERITYCODE     0\n",
       "X                0\n",
       "Y                0\n",
       "ADDRTYPE         0\n",
       "JUNCTIONTYPE     0\n",
       "COLLISIONTYPE    0\n",
       "VEHCOUNT         0\n",
       "PEDCYLCOUNT      0\n",
       "PERSONCOUNT      0\n",
       "PEDCOUNT         0\n",
       "SDOT_COLCODE     0\n",
       "ROADCOND         0\n",
       "LIGHTCOND        0\n",
       "WEATHER          0\n",
       "PEDROWNOTGRNT    0\n",
       "SPEEDING         0\n",
       "HITPARKEDCAR     0\n",
       "dtype: int64"
      ]
     },
     "execution_count": 26,
     "metadata": {},
     "output_type": "execute_result"
    }
   ],
   "source": [
    "features_geo.isna().sum()"
   ]
  },
  {
   "cell_type": "code",
   "execution_count": 27,
   "metadata": {},
   "outputs": [
    {
     "data": {
      "text/plain": [
       "(180067, 17)"
      ]
     },
     "execution_count": 27,
     "metadata": {},
     "output_type": "execute_result"
    }
   ],
   "source": [
    "features_geo.shape"
   ]
  },
  {
   "cell_type": "markdown",
   "metadata": {},
   "source": [
    "<h3><font size=\"5\">Create Cluster Markers</font></h3>"
   ]
  },
  {
   "cell_type": "code",
   "execution_count": 29,
   "metadata": {},
   "outputs": [
    {
     "data": {
      "text/html": [
       "<iframe src=seattle_map.html width=700 height=450></iframe>"
      ],
      "text/plain": [
       "<IPython.core.display.HTML object>"
      ]
     },
     "execution_count": 29,
     "metadata": {},
     "output_type": "execute_result"
    }
   ],
   "source": [
    "# instantiate a mark cluster object for the incidents in the dataframe\n",
    "collisions = plugins.MarkerCluster().add_to(seattle_map)\n",
    "\n",
    "#limit of collisions\n",
    "limit = 1000\n",
    "colisi = features_geo[0:limit]\n",
    "\n",
    "# loop through the dataframe and add each data point to the mark cluster\n",
    "for lat, lng, label, in zip(colisi.Y, colisi.X, colisi.SEVERITYCODE):\n",
    "    folium.Marker(\n",
    "        location=[lat, lng],\n",
    "        icon=folium.Icon(color='blue', icon='car', prefix='fa'),\n",
    "        popup=label,\n",
    "    ).add_to(collisions)\n",
    "\n",
    "# display map\n",
    "seattle_map.save('seattle_map.html')\n",
    "\n",
    "HTML('<iframe src=seattle_map.html width=700 height=450></iframe>')"
   ]
  },
  {
   "cell_type": "code",
   "execution_count": null,
   "metadata": {},
   "outputs": [],
   "source": []
  },
  {
   "cell_type": "code",
   "execution_count": null,
   "metadata": {},
   "outputs": [],
   "source": []
  }
 ],
 "metadata": {
  "kernelspec": {
   "display_name": "Python",
   "language": "python",
   "name": "conda-env-python-py"
  },
  "language_info": {
   "codemirror_mode": {
    "name": "ipython",
    "version": 3
   },
   "file_extension": ".py",
   "mimetype": "text/x-python",
   "name": "python",
   "nbconvert_exporter": "python",
   "pygments_lexer": "ipython3",
   "version": "3.6.11"
  }
 },
 "nbformat": 4,
 "nbformat_minor": 4
}
